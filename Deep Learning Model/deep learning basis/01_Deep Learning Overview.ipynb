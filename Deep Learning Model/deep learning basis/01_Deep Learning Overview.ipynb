{
 "cells": [
  {
   "cell_type": "markdown",
   "metadata": {},
   "source": [
    "\n",
    "\n",
    "# Deep Learning Overview\n",
    "\n",
    "이번 주차에는 딥러닝 알고리즘 중 하나인 심층신경망(Deep Neural Network)의 기본에 대해 배웁니다. 본격적인 내용에 들어가기에 앞서, 딥러닝이란 무엇인지, 딥러닝 알고리즘 활용에 사용되는 프레임워크에는 어떤 것이 있는지 살펴보겠습니다. <br>\n",
    "\n",
    "\n",
    "### _Objective_\n",
    "1. **머신러닝과 딥러닝** : 머신러닝 및 딥러닝 프로그래밍의 개념과 발전 역사를 개괄적으로 알아봅니다.<br>\n",
    "2. **딥러닝 프레임워크 맛보기**: 딥러닝 프로그래밍에 활용되는 대표적인 프레임워크(Tensorflow와 Keras)를 이용해 머신러닝 알고리즘을 구현하는 방법을 간략하게 알아봅니다. \n"
   ]
  },
  {
   "cell_type": "code",
   "execution_count": 1,
   "metadata": {},
   "outputs": [],
   "source": [
    "%matplotlib inline\n",
    "\n",
    "import os\n",
    "\n",
    "import pandas as pd\n",
    "import numpy as np\n",
    "import keras\n",
    "\n",
    "import matplotlib.pyplot as plt"
   ]
  },
  {
   "cell_type": "markdown",
   "metadata": {},
   "source": [
    "# \\[ 1. 머신러닝과 딥러닝 \\]\n"
   ]
  },
  {
   "cell_type": "markdown",
   "metadata": {},
   "source": [
    "## 1. 머신러닝 프로그래밍이란?\n",
    "\n",
    "머신러닝 프로그래밍이란 무엇일까요? 머신러닝 프로그래밍이 대두되기 전, 프로그래밍이란 '명시적 프로그래밍'을 뜻했었습니다. 데이터 저장 및 처리기술 발전과 통계학 연구의 축적 등의 여로 요인으로 인해 '머신러닝 프로그래밍'이라는 개념이 등장하게 되었습니다. (1) 명시적 프로그래밍과 (2) 머신러닝 프로그래밍의 개념을 비교하여 알아보고, (3) 머신러닝의 세부 분야가 어떻게 나뉘어 발전해왔는지, 거기서 (4) 딥러닝은 머신러닝과 어떤 관계가 있는지 알아봅시다. "
   ]
  },
  {
   "cell_type": "markdown",
   "metadata": {},
   "source": [
    "### (1) 명시적 프로그래밍\n",
    "명시적 프로그래밍이란 개발자가 입력조건과 프로그램 상태 조건에 따라 프로그램이 동작하는 방식을 모두 구현하는 프로그래밍 방식입니다."
   ]
  },
  {
   "cell_type": "markdown",
   "metadata": {},
   "source": [
    "<img src=\"https://i.imgur.com/qSt0aPW.png\" width=\"800\" height=\"600\"/>"
   ]
  },
  {
   "cell_type": "markdown",
   "metadata": {},
   "source": [
    "### (2) 머신러닝 프로그래밍\n",
    "머신러닝 프로그래밍이란 Arthur Samuel 교수가 제안한 것으로, 개발자가 프로그램의 동작방식을 일일이 구현한 것이 아니라 프로그램이 데이터를 보고 스스로가 학습하여 동작방식을 결정하는 프로그래밍 방식입니다. 프로그램, 즉 기계(machine)가 데이터로부터 스스로 학습(learning)한다는 의미에서 '머신 러닝'이라는 이름이 붙여진 것이죠."
   ]
  },
  {
   "cell_type": "markdown",
   "metadata": {},
   "source": [
    "<img src=\"https://i.imgur.com/HWA8Ro2.png\" width=\"800\" height=\"600\"/>"
   ]
  },
  {
   "cell_type": "markdown",
   "metadata": {},
   "source": [
    "### (3) 머신러닝의 하위 분야\n",
    "머신러닝은 크게 지도학습(supervised learning), 비지도학습(unsupervised learning), 강화학습(reinforcement learning) 등 세 가지의 분야로 나뉘어집니다. 각각의 개념과 하위 분야를 알아봅시다."
   ]
  },
  {
   "cell_type": "markdown",
   "metadata": {},
   "source": [
    "<img src=\"https://i.imgur.com/8LDS6Ok.png\" width=\"600\" height=\"450\"/>"
   ]
  },
  {
   "cell_type": "markdown",
   "metadata": {},
   "source": [
    "지도학습은 데이터셋을 제공하되, 정답셋(labeled data)을 함께 제공하여 기계에게 학습시키고, 학습에 활용한 정답셋과 유사하도록 결과를 예측하게 하는 분야입니다. 지도학습 알고리즘은 크게 분류(Classification) 문제를 푸는 알고리즘과 회귀(Regression) 문제를 푸는 알고리즘으로 나뉩니다. 분류 문제를 푸는 알고리즘에는 로지스틱 회귀, 의사결정 트리, 랜덤포레스트 등이 있으며, 회귀 문제를 푸는 알고리즘에는 다양한 선형 및 비선형 회귀 알고리즘 등이 있습니다. "
   ]
  },
  {
   "cell_type": "markdown",
   "metadata": {},
   "source": [
    "<img src=\"https://i.imgur.com/jgfmDAd.png\" width=\"800\" height=\"600\"/>"
   ]
  },
  {
   "cell_type": "markdown",
   "metadata": {},
   "source": [
    "반면 비지도학습은 정답이 없는 환경에서 이루어집니다. 정답이 주어지지 않은 상태에서 데이터로부터 패턴을 찾게 되며, 대표적으로는 군집화, PCA, t-SNE등의 알고리즘이 있습니다."
   ]
  },
  {
   "cell_type": "markdown",
   "metadata": {},
   "source": [
    "<img src=\"https://i.imgur.com/j3YQrhi.png\" width=\"800\" height=\"600\"/>"
   ]
  },
  {
   "cell_type": "markdown",
   "metadata": {},
   "source": [
    "강화학습은 벌점과 상점을 통해 최적의 행동을 학습하게 합니다. 대표적인 강화학습 알고리즘에는 Q-Learning 등이 있습니다."
   ]
  },
  {
   "cell_type": "markdown",
   "metadata": {},
   "source": [
    "<img src=\"https://i.imgur.com/woaZwgL.png\" width=\"800\" height=\"600\"/>"
   ]
  },
  {
   "cell_type": "markdown",
   "metadata": {},
   "source": [
    "## 2. 딥러닝 프로그래밍"
   ]
  },
  {
   "cell_type": "markdown",
   "metadata": {},
   "source": [
    "그렇다면 흔히 얘기하는 '딥러닝'은 머신러닝과 어떤 관계가 있을까요? 아래 그림은 여러 인공지능 분야의 관계와 각 분야에 대한 간단한 설명이 덧붙여진 이미지입니다. 딥러닝이 머신러닝의 일종이고, 머신러닝이 인공지능 분야에 쓰이긴 하지만 모든 인공지능 분야에 쓰이는 것은 아니라는 것을 알 수 있습니다. 이번에는 (1) 딥러닝과 고전적 머신러닝 알고리즘 간의 차이를 알아보고, (2) 딥러닝의 특징을 알아보겠습니다. 그 후, (3) 딥러닝의 발전 역사와 (4) 최근 딥러닝이 성장하게 된 이유를 알아보겠습니다."
   ]
  },
  {
   "cell_type": "markdown",
   "metadata": {},
   "source": [
    "<img src=\"https://i.imgur.com/6ISZNrY.png\" width=\"800\" height=\"600\"/>"
   ]
  },
  {
   "cell_type": "markdown",
   "metadata": {},
   "source": [
    "### (1) 딥러닝(심층학습)과 고전적 머신러닝 간의 차이\n",
    "\n",
    "앞서 머신러닝은 크게 지도학습, 비지도학습, 강화학습 등으로 분류할 수 있다고 했습니다. 이러한 분류는 고전적인 관점에서 머신러닝 알고리즘을 분류한 것입니다. 고전적인 머신러닝 알고리즘은 사람이 직접 지정한 규칙에서 입력값의 특징을 추출한 후, 추출한 특징에서 머신러닝을 이용해 분류(classification), 군집화(clustering), 회귀(regression)등을 수행하였습니다. 즉, 고전적 머신러닝에서는 특징 추출(feature extraction)에 사람이 개입하게 되는데, 이를 어떻게 하느냐에 따라 결과가 크게 달라지기도 합니다. 반면, 딥러닝은 데이터를 입력하면 컴퓨터가 직접 특징을 추출하고 결과를 도출합니다. (규칙기반시스템은 앞서 살펴본 '명시적 프로그래밍'의 다른 말이기도 합니다.)"
   ]
  },
  {
   "cell_type": "markdown",
   "metadata": {},
   "source": [
    "<img src=\"https://i.imgur.com/jWTdAh2.png\" width=\"450\" height=\"600\"/>"
   ]
  },
  {
   "cell_type": "markdown",
   "metadata": {},
   "source": [
    "### (2) 표현을 스스로 학습하는 딥러닝\n",
    "\n",
    "딥러닝이 가장 많이 쓰이는 대표적인 분야가 바로 이미지 인식 분야입니다. 사람이 이미지를 인식한다는 것은 어떤 의미일까요? 우리는 이미지로부터 이미지를 구성하는 가장 낮은 단계는 선, 점 등을 구별합니다. 그 후 그 정보들을 조합해 턱선, 눈 등을 구별하고, 다시 그 정보들을 조합해 눈 코 입 등을 구별합니다. 딥러닝은 이러한 동물의 시각 인지방법과 매우 유사하게 작동합니다. 마치 사람이 시각을 배우는 것과 유사한 방식으로, 딥러닝도 데이터를 보고 특징 정보를 추출해 객체를 인지하고 구별하는 학습을 하는 것이죠. "
   ]
  },
  {
   "cell_type": "markdown",
   "metadata": {},
   "source": [
    "<img src=\"https://i.imgur.com/Ru35dZZ.png\" width=\"600\" height=\"450\"/>"
   ]
  },
  {
   "cell_type": "markdown",
   "metadata": {},
   "source": [
    "### (3) 딥러닝의 역사\n",
    "\n",
    "딥러닝은 현시대에 가장 빠르게 발전하고 있는 학문 중 하나입니다. 1940년대에 인간의 뉴런을 수학적으로 표기하는 '퍼셉트론'의 개념이 고안되었고, 이후 연구가 지속적으로 축적되어 왔습니다. "
   ]
  },
  {
   "cell_type": "markdown",
   "metadata": {},
   "source": [
    "<img src=\"https://i.imgur.com/QeilN3x.png\" width=\"800\" height=\"600\"/>"
   ]
  },
  {
   "cell_type": "markdown",
   "metadata": {},
   "source": [
    "아래의 이미지는 2006년~2017년 6월 까지의 딥러닝 관련 논문 출판 횟수입니다. 딥러닝에 대한 연구가 꾸준하게 증가하고 있음을 확인할 수 있습니다."
   ]
  },
  {
   "cell_type": "markdown",
   "metadata": {},
   "source": [
    "<img src=\"https://i.imgur.com/gibxOn4.png\" width=\"800\" height=\"600\"/>"
   ]
  },
  {
   "cell_type": "markdown",
   "metadata": {},
   "source": [
    "2015년~2017년 취업에 요구되는 AI기술의 성장추이(위 이미지)와 성장률 추이(아래 이미지)를 나타낸 것입니다. 취업 시장에서 딥러닝 기술에 대한 요구가 늘어나고 있음을 알 수 있습니다."
   ]
  },
  {
   "cell_type": "markdown",
   "metadata": {},
   "source": [
    "<img src=\"https://imgur.com/nctX6hh.png\" width=\"800\" height=\"600\"/>"
   ]
  },
  {
   "cell_type": "markdown",
   "metadata": {},
   "source": [
    "### (4) 딥러닝의 성장 이유\n",
    "\n",
    "이처럼 급격하게 딥러닝이 주목받고 성장하게 된 이유는 무엇일까요? 가장 큰 성장 이유는 데이터셋의 크기 증가입니다. 딥러닝은 많은 데이터셋을 필요로 하는 알고리즘입니다. 1900년대부터 머신러닝 분야에서 사용된 주요 공공데이터의 등장 시점과 해당 데이터셋의 크기를 살펴보면 아래와 같습니다. 최근에 등장한 공공 데이터셋일수록 데이터셋의 크기가 커지고 있음을 알 수 있습니다. 점점 처리해야 하는 데이터셋의 크기가 커지고 있는데, 큰 데이터셋을 처리하기에 효율적인 알고리즘 중 하나가 바로 딥러닝 알고리즘입니다. "
   ]
  },
  {
   "cell_type": "markdown",
   "metadata": {},
   "source": [
    "<img src=\"https://i.imgur.com/NOkCzb2.png\" width=\"800\" height=\"600\"/>"
   ]
  },
  {
   "cell_type": "markdown",
   "metadata": {},
   "source": [
    "두 번째 이유는 연산장치(GPU)가 빠르게 발전함에 따라 컴퓨터가 연산을 하는 속도는 줄어들고 있다는 점입니다. 컴퓨터의 연산 속도가 빨라질수록, 복잡한(뉴런의 수가 많은) 딥러닝 알고리즘을 연산하기가 쉬워집니다. 아래 이미지를 보면, 최근에 고안된 딥러닝 알고리즘 일수록 사용되는 뉴런의 수가 많아짐을 알 수 있습니다. 가령 1번 알고리즘은 Perceptron인데 1958년도에 고안되었고 사용되는 뉴런의 수가 1개였고, 20번 알고리즘은 2014년에 고안된 GoogLeNet 알고리즘은 대략 $10^7$ 개의 뉴런이 사용되었습니다. 알고리즘에 사용되는 뉴런의 수가 지수적으로 증가하고 있는 것을 알 수 있습니다. GPU의 발전에 따라 가능해진 일이죠. 현대 딥러닝의 트렌드 중 하나는 딥러닝 알고리즘에서 사용하는 뉴런수를 인간의 뉴런수 만큼이나 끌어올리는 것입니다. "
   ]
  },
  {
   "cell_type": "markdown",
   "metadata": {},
   "source": [
    "<img src=\"https://i.imgur.com/vz8LBNb.png\" width=\"800\" height=\"600\"/>\n",
    "\n",
    "Reference : http://www.deeplearningbook.org/contents/intro.html"
   ]
  },
  {
   "cell_type": "markdown",
   "metadata": {},
   "source": [
    "# \\[ 2. 딥러닝 프레임워크 맛보기 \\]\n",
    "\n",
    "\n",
    "이러한 딥러닝을 구현하여 프로덕트를 개발하려면 무엇을 알아야 할까요? Tensorflow와 Keras는 머신러닝, 딥러닝 모델을 만들기 위한 딥러닝 프레임워크입니다. 파이썬과 넘파이로도 딥러닝 모델을 구성하고 학습시킬 수 있지만, 이러한 딥러닝 프레임워크를 이용하면 훨씬 더 간결하게 문제를 해결할 수 있습니다. (1) 딥러닝 프레임워크에는 어떤 것들이 있는지 알아보고, (2) 대표적인 딥러닝 프레임워크인 케라스를 이용해 고전적 머신러닝 기법 중 선형 회귀, 로지스틱 회귀를 구현해보겠습니다."
   ]
  },
  {
   "cell_type": "markdown",
   "metadata": {},
   "source": [
    "## 1. 딥러닝 프레임워크란? "
   ]
  },
  {
   "cell_type": "markdown",
   "metadata": {},
   "source": [
    "### (1) 딥러닝 프레임워크의 필요성"
   ]
  },
  {
   "cell_type": "markdown",
   "metadata": {},
   "source": [
    "딥러닝 모델을 만들기 위해서는 복잡한 수식을 코드로 구현해야 합니다. 수식을 직접 구현하지 않고, 이미 잘 구현된 코드들을 이용해 딥러닝 모델을 만든다면 한결 간편할 것입니다. 이러한 딥러닝 모델을 개발하기 위한 도구들의 집합을 **딥러닝 프레임워크라 합니다.**"
   ]
  },
  {
   "cell_type": "markdown",
   "metadata": {},
   "source": [
    "### (2) 다양한 딥러닝 프레임워크\n",
    "\n",
    "딥러닝 프레임워크에는 다양한 것들이 존재합니다. 2018년 기준 가장 인기 있는 딥러닝 프레임워크로는 Tensorflow, Keras, Pytorch가 있습니다. \n",
    "\n",
    "<img src=\"https://imgur.com/0tX4EXs.png\" width=\"800\" height=\"600\"/>\n",
    "\n",
    "상위 세 개의 프레임워크 모두 널리 이용되고 있는 프레임워크입니다. 각 프레임워크 별 핵심 특징은 아래와 같습니다.\n",
    "\n",
    "* Tensorflow(텐서플로우) : google\n",
    "    1. 가장 많은 유저 수\n",
    "    2. 다양한 환경(IoT, Web Server, Mobile)등에 유연하게 딥러닝 모델을 이식할 수 있음\n",
    "    3. 초기에 배우기가 어려움\n",
    "    \n",
    "* Keras(케라스) : tensorflow가 인수\n",
    "    1. 다른 프레임워크(Tensorflow, Theano, CNTK)을 기반으로 그 위에서 딥러닝 모델을 구현\n",
    "    2. 쉽고 빠르게 딥러닝 모델을 구현할 수 있음\n",
    "    \n",
    "* Pytorch(파이토치) : facebook\n",
    "    1. \"Define-by-Run\" 스타일로 구현된 딥러닝 프레임워크\n",
    "    2. 디버깅이 용이\n",
    "\n",
    "자신의 목적에 맞게 프레임워크를 선택하여 사용합니다. 이번 수업 시간에서는 Tensorflow 와 Keras를 이용하여 딥러닝 모델을 구현해보겠습니다."
   ]
  },
  {
   "cell_type": "markdown",
   "metadata": {},
   "source": [
    "### (3) Numpy, Tensorflow, Keras의 관계\n",
    "\n",
    "<img src=\"https://imgur.com/bB7YzFA.png\" width=\"800\" height=\"600\"/>"
   ]
  },
  {
   "cell_type": "markdown",
   "metadata": {},
   "source": [
    "Python, Numpy, Tensorflow, Keras는 위 그림과 같은 관계를 가지고 있습니다. Numpy는 Python에서 수치 연산을 보다 편리하게 만들어주기 위해 만들어진 라이브러리입니다. Tensorflow는 여러 수치 연산 중 머신러닝에 특화된 수치 연산을 보다 최적화하여 구현된 프레임워크입니다. 그리고 텐서플로우에서의 딥러닝 모델 개발을 좀 더 쉽게 만들어준 프레임워크가 바로 Keras입니다."
   ]
  },
  {
   "cell_type": "markdown",
   "metadata": {},
   "source": [
    "## 2. 케라스로 선형회귀 모델 구성하기\n",
    "\n",
    "딥러닝 프레임워크 중 하나인 케라스에는 딥러닝, 머신러닝 문제를 풀기 위한 많은 요소들이 잘 구현되어 있습니다. 이들의 조합으로도 우리가 원하는 형태의 머신러닝과 딥러닝 모형을 쉽게 구축할 수 있습니다. 이번에는 케라스로 어떻게 선형 회귀 모델을 구현하는지 알아본 봅시다. "
   ]
  },
  {
   "cell_type": "markdown",
   "metadata": {},
   "source": [
    "### (1) 선형회귀 모델 구성하기\n",
    "\n",
    "선형회귀식은 간단히 표현하면 아래와 같습니다. \n",
    "\n",
    "$$\n",
    "\\hat y(x) = w_1 x + w_0\n",
    "$$\n",
    "\n",
    "위의 수식을 케라스로 구현해야 합니다. 케라스는 머신러닝 모델을 **층의 연결**로 표현합니다. <br>\n",
    "선형 회귀분석 모델을 케라스로 구현하려면 입력값을 받는 **Input** 층과, 선형 변환을 수행하는 **Dense** 층을 만들어야 합니다."
   ]
  },
  {
   "cell_type": "markdown",
   "metadata": {},
   "source": [
    "$ y = w_1 x + w_0 $ : 입력 하나(y) 출력 하나(x) <br>\n",
    "* 입력층 = input / 출력층 = output / 모두 다 연결한 것 = Fully-connected = Dense"
   ]
  },
  {
   "cell_type": "code",
   "execution_count": 2,
   "metadata": {},
   "outputs": [],
   "source": [
    "import tensorflow as tf\n",
    "from tensorflow.keras.layers import Input\n",
    "from tensorflow.keras.layers import Dense\n",
    "from tensorflow.keras.layers import Concatenate\n",
    "from tensorflow.keras.models import Model\n",
    "from tensorflow.keras import backend as K\n",
    "\n",
    "if \"set_seed\" in dir(tf.random):\n",
    "    tf.random.set_seed(1)\n",
    "else:\n",
    "    tf.random.set_random_seed(1)"
   ]
  },
  {
   "cell_type": "code",
   "execution_count": 3,
   "metadata": {},
   "outputs": [
    {
     "name": "stdout",
     "output_type": "stream",
     "text": [
      "inputs :  Tensor(\"inputs:0\", shape=(None, 1), dtype=float32)\n",
      "dense_layer :  <tensorflow.python.keras.layers.core.Dense object at 0x000002206A785080>\n",
      "output :  Tensor(\"output/BiasAdd:0\", shape=(None, 1), dtype=float32)\n",
      "Model: \"model\"\n",
      "_________________________________________________________________\n",
      "Layer (type)                 Output Shape              Param #   \n",
      "=================================================================\n",
      "inputs (InputLayer)          [(None, 1)]               0         \n",
      "_________________________________________________________________\n",
      "output (Dense)               (None, 1)                 2         \n",
      "=================================================================\n",
      "Total params: 2\n",
      "Trainable params: 2\n",
      "Non-trainable params: 0\n",
      "_________________________________________________________________\n"
     ]
    }
   ],
   "source": [
    "# (1) 입력층 구성하기 - 입력값의 형태 결정하기\n",
    "inputs = Input(shape=(1,), name='inputs')\n",
    "print(\"inputs : \",inputs)\n",
    "\n",
    "# (2) 출력층 구성하기 - 출력값의 형태 결정하기\n",
    "dense_layer = Dense(units=1, name='output')\n",
    "print(\"dense_layer : \", dense_layer)\n",
    "\n",
    "# (3) 입력층과 출령층을 연결하기 - 레이어를 연결하기\n",
    "output = dense_layer(inputs)\n",
    "print(\"output : \", output)\n",
    "\n",
    "# (4) 모델로 구성하기\n",
    "model = Model(inputs, output, name='model')\n",
    "model.summary()"
   ]
  },
  {
   "cell_type": "markdown",
   "metadata": {},
   "source": [
    "위의 작업은 실제로 아래와 같은 순서로 동작한다고 생각하면 됩니다.\n",
    "\n",
    "<img src = 'https://i.imgur.com/1gvtTYp.png' width = 800>"
   ]
  },
  {
   "cell_type": "markdown",
   "metadata": {},
   "source": [
    "$ w_1 x_1 + w_2 x_2 + w_3 x_3 + w_0 $"
   ]
  },
  {
   "cell_type": "code",
   "execution_count": 4,
   "metadata": {},
   "outputs": [
    {
     "name": "stdout",
     "output_type": "stream",
     "text": [
      "Model: \"model\"\n",
      "_________________________________________________________________\n",
      "Layer (type)                 Output Shape              Param #   \n",
      "=================================================================\n",
      "inputs (InputLayer)          [(None, 3)]               0         \n",
      "_________________________________________________________________\n",
      "output (Dense)               (None, 1)                 4         \n",
      "=================================================================\n",
      "Total params: 4\n",
      "Trainable params: 4\n",
      "Non-trainable params: 0\n",
      "_________________________________________________________________\n"
     ]
    }
   ],
   "source": [
    "################# 1\n",
    "# (1) 입력층 구성하기 - 입력값의 형태 결정하기\n",
    "inputs = Input(shape=(3,), name='inputs')\n",
    "\n",
    "# (2) 출력층 구성하기 - 출력값의 형태 결정하기\n",
    "dense_layer = Dense(units=1, name='output')\n",
    "\n",
    "# (3) 입력층과 출령층을 연결하기 - 레이어를 연결하기\n",
    "output = dense_layer(inputs)\n",
    "\n",
    "# (4) 모델로 구성하기\n",
    "model = Model(inputs, output, name='model')\n",
    "model.summary()"
   ]
  },
  {
   "cell_type": "code",
   "execution_count": 5,
   "metadata": {},
   "outputs": [
    {
     "name": "stdout",
     "output_type": "stream",
     "text": [
      "Model: \"model\"\n",
      "_________________________________________________________________\n",
      "Layer (type)                 Output Shape              Param #   \n",
      "=================================================================\n",
      "inputs (InputLayer)          [(None, 3)]               0         \n",
      "_________________________________________________________________\n",
      "output (Dense)               (None, 1)                 3         \n",
      "=================================================================\n",
      "Total params: 3\n",
      "Trainable params: 3\n",
      "Non-trainable params: 0\n",
      "_________________________________________________________________\n"
     ]
    }
   ],
   "source": [
    "####### w_0가 필요없을 때!!!! 얘는 바이어스라서~~ 가끔~~\n",
    "# (1) 입력층 구성하기 - 입력값의 형태 결정하기\n",
    "inputs = Input(shape=(3,), name='inputs')\n",
    "\n",
    "# (2) 출력층 구성하기 - 출력값의 형태 결정하기\n",
    "dense_layer = Dense(units=1, use_bias=False, name='output') # w_0를 없애서 param 갯수는 3개로 바뀜\n",
    "\n",
    "# (3) 입력층과 출령층을 연결하기 - 레이어를 연결하기\n",
    "output = dense_layer(inputs)\n",
    "\n",
    "# (4) 모델로 구성하기\n",
    "model = Model(inputs, output, name='model')\n",
    "model.summary()"
   ]
  },
  {
   "cell_type": "code",
   "execution_count": 6,
   "metadata": {},
   "outputs": [
    {
     "name": "stdout",
     "output_type": "stream",
     "text": [
      "Tensor(\"concatenate/concat:0\", shape=(None, 3), dtype=float32)\n",
      "Model: \"model\"\n",
      "_________________________________________________________________\n",
      "Layer (type)                 Output Shape              Param #   \n",
      "=================================================================\n",
      "inputs (InputLayer)          [(None, 3)]               0         \n",
      "_________________________________________________________________\n",
      "output (Dense)               (None, 1)                 4         \n",
      "=================================================================\n",
      "Total params: 4\n",
      "Trainable params: 4\n",
      "Non-trainable params: 0\n",
      "_________________________________________________________________\n"
     ]
    }
   ],
   "source": [
    "################## 2\n",
    "# (1) 입력층 구성하기 - 입력값의 형태 결정하기\n",
    "input1 = Input(shape=(1,), name='inputs1')\n",
    "input2 = Input(shape=(1,), name='inputs2')\n",
    "input3 = Input(shape=(1,), name='inputs3')\n",
    "input_all = Concatenate(axis=-1)([input1,input2,input3])\n",
    "print(input_all)\n",
    "\n",
    "# (2) 출력층 구성하기 - 출력값의 형태 결정하기\n",
    "dense_layer = Dense(units=1, name='output')\n",
    "\n",
    "# (3) 입력층과 출령층을 연결하기 - 레이어를 연결하기\n",
    "output = dense_layer(inputs)\n",
    "\n",
    "# (4) 모델로 구성하기\n",
    "model = Model(inputs, output, name='model')\n",
    "model.summary()"
   ]
  },
  {
   "cell_type": "markdown",
   "metadata": {},
   "source": [
    "$ logistic(x) = 1/(1+e^{-x}) $\n",
    "* sigmoid 함수, 0~1 확률값으로 치환해줌\n",
    "* 비선형 함수 = 활성화 함수(activation)"
   ]
  },
  {
   "cell_type": "code",
   "execution_count": 7,
   "metadata": {},
   "outputs": [
    {
     "name": "stdout",
     "output_type": "stream",
     "text": [
      "Model: \"model\"\n",
      "_________________________________________________________________\n",
      "Layer (type)                 Output Shape              Param #   \n",
      "=================================================================\n",
      "inputs (InputLayer)          [(None, 3)]               0         \n",
      "_________________________________________________________________\n",
      "output (Dense)               (None, 1)                 4         \n",
      "=================================================================\n",
      "Total params: 4\n",
      "Trainable params: 4\n",
      "Non-trainable params: 0\n",
      "_________________________________________________________________\n"
     ]
    }
   ],
   "source": [
    "# (1) 입력층 구성하기 - 입력값의 형태 결정하기\n",
    "inputs = Input(shape=(3,), name='inputs')\n",
    "\n",
    "# (2) 출력층 구성하기 - 출력값의 형태 결정하기\n",
    "dense_layer = Dense(units=1, activation='sigmoid', name='output')\n",
    "\n",
    "# (3) 입력층과 출령층을 연결하기 - 레이어를 연결하기\n",
    "output = dense_layer(inputs)\n",
    "\n",
    "# (4) 모델로 구성하기\n",
    "model = Model(inputs, output, name='model')\n",
    "model.summary()"
   ]
  },
  {
   "cell_type": "markdown",
   "metadata": {},
   "source": [
    "입력이 3개, 출력이 2개 = 출력값이 시그모이드로 바뀌어진 형태"
   ]
  },
  {
   "cell_type": "code",
   "execution_count": 8,
   "metadata": {},
   "outputs": [
    {
     "name": "stdout",
     "output_type": "stream",
     "text": [
      "Model: \"model\"\n",
      "_________________________________________________________________\n",
      "Layer (type)                 Output Shape              Param #   \n",
      "=================================================================\n",
      "inputs (InputLayer)          [(None, 3)]               0         \n",
      "_________________________________________________________________\n",
      "output (Dense)               (None, 2)                 8         \n",
      "=================================================================\n",
      "Total params: 8\n",
      "Trainable params: 8\n",
      "Non-trainable params: 0\n",
      "_________________________________________________________________\n"
     ]
    }
   ],
   "source": [
    "# (1) 입력층 구성하기 - 입력값의 형태 결정하기\n",
    "inputs = Input(shape=(3,), name='inputs')\n",
    "\n",
    "# (2) 출력층 구성하기 - 출력값의 형태 결정하기\n",
    "dense_layer = Dense(units=2, activation='sigmoid', name='output')\n",
    "\n",
    "# (3) 입력층과 출령층을 연결하기 - 레이어를 연결하기\n",
    "output = dense_layer(inputs)\n",
    "\n",
    "# (4) 모델로 구성하기\n",
    "model = Model(inputs, output, name='model')\n",
    "model.summary()"
   ]
  },
  {
   "cell_type": "markdown",
   "metadata": {},
   "source": [
    "입력 3개, 은닉 3개, 최종 1개"
   ]
  },
  {
   "cell_type": "code",
   "execution_count": 9,
   "metadata": {},
   "outputs": [
    {
     "name": "stdout",
     "output_type": "stream",
     "text": [
      "Model: \"model\"\n",
      "_________________________________________________________________\n",
      "Layer (type)                 Output Shape              Param #   \n",
      "=================================================================\n",
      "inputs (InputLayer)          [(None, 3)]               0         \n",
      "_________________________________________________________________\n",
      "hidden (Dense)               (None, 3)                 12        \n",
      "_________________________________________________________________\n",
      "output (Dense)               (None, 1)                 4         \n",
      "=================================================================\n",
      "Total params: 16\n",
      "Trainable params: 16\n",
      "Non-trainable params: 0\n",
      "_________________________________________________________________\n"
     ]
    }
   ],
   "source": [
    "# (1) 입력층 구성하기 - 입력값의 형태 결정하기\n",
    "inputs = Input(shape=(3,), name='inputs')\n",
    "\n",
    "# (2-1) 은닉층 구성하기\n",
    "hidden_layer = Dense(units=3, activation='sigmoid', name='hidden')\n",
    "hidden = hidden_layer(inputs)\n",
    "\n",
    "# (2-2) 출력층 구성하기 -  출력값의 형태 결정하기\n",
    "output_layer = Dense(units=1, name='output')\n",
    "\n",
    "# (3) 입력층과 출령층을 연결하기 - 레이어를 연결하기\n",
    "output = output_layer(hidden)\n",
    "\n",
    "# (4) 모델로 구성하기\n",
    "model = Model(inputs, output, name='model')\n",
    "model.summary()"
   ]
  },
  {
   "cell_type": "markdown",
   "metadata": {},
   "source": [
    "parameter가 매우 중요하다 = 결국 **parameter 갯수를 적게 써서** 효과적으로 학습시키냐가 관건이다!!\n"
   ]
  },
  {
   "cell_type": "markdown",
   "metadata": {},
   "source": [
    "입력 3개, 출력 1개, 은닉 = 3개짜리 2개"
   ]
  },
  {
   "cell_type": "code",
   "execution_count": 10,
   "metadata": {},
   "outputs": [
    {
     "name": "stdout",
     "output_type": "stream",
     "text": [
      "Model: \"model\"\n",
      "__________________________________________________________________________________________________\n",
      "Layer (type)                    Output Shape         Param #     Connected to                     \n",
      "==================================================================================================\n",
      "inputs (InputLayer)             [(None, 3)]          0                                            \n",
      "__________________________________________________________________________________________________\n",
      "hidden (Dense)                  (None, 3)            12          inputs[0][0]                     \n",
      "                                                                 inputs[0][0]                     \n",
      "__________________________________________________________________________________________________\n",
      "concatenate_1 (Concatenate)     (None, 6)            0           hidden[1][0]                     \n",
      "                                                                 hidden[2][0]                     \n",
      "==================================================================================================\n",
      "Total params: 12\n",
      "Trainable params: 12\n",
      "Non-trainable params: 0\n",
      "__________________________________________________________________________________________________\n"
     ]
    }
   ],
   "source": [
    "# (1) 입력층 구성하기 - 입력값의 형태 결정하기\n",
    "inputs = Input(shape=(3,), name='inputs')\n",
    "\n",
    "# (2-1) 은닉층 구성하기\n",
    "hidden_layer1 = Dense(units=3, activation='sigmoid', name='hidden')\n",
    "hidden_layer2 = Dense(units=3, activation='sigmoid', name='hidden')\n",
    "hidden1 = hidden_layer(inputs)\n",
    "hidden2 = hidden_layer(inputs)\n",
    "concat = Concatenate(axis=-1)([hidden1, hidden2])\n",
    "\n",
    "# (2-2) 출력층 구성하기 -  출력값의 형태 결정하기\n",
    "output_layer = Dense(units=1, name='output')\n",
    "\n",
    "# (3) 입력층과 출령층을 연결하기 - 레이어를 연결하기\n",
    "output = output_layer(hidden)\n",
    "\n",
    "# (4) 모델로 구성하기\n",
    "model = Model(inputs, concat, name='model')\n",
    "model.summary()"
   ]
  },
  {
   "cell_type": "markdown",
   "metadata": {},
   "source": [
    "### (2) 구성한 모델 살펴보기\n",
    "\n",
    "이렇게 Input 층과 Dense 층이 연결되면 모델에서 학습해야 하는 가중치들이 결정됩니다.<br>"
   ]
  },
  {
   "cell_type": "code",
   "execution_count": 11,
   "metadata": {
    "scrolled": true
   },
   "outputs": [
    {
     "name": "stdout",
     "output_type": "stream",
     "text": [
      "inputs :  Tensor(\"inputs_7:0\", shape=(None, 1), dtype=float32)\n",
      "dense_layer :  <tensorflow.python.keras.layers.core.Dense object at 0x000002205390DC88>\n",
      "output :  Tensor(\"output/BiasAdd_7:0\", shape=(None, 1), dtype=float32)\n",
      "Model: \"model\"\n",
      "_________________________________________________________________\n",
      "Layer (type)                 Output Shape              Param #   \n",
      "=================================================================\n",
      "inputs (InputLayer)          [(None, 1)]               0         \n",
      "_________________________________________________________________\n",
      "output (Dense)               (None, 1)                 2         \n",
      "=================================================================\n",
      "Total params: 2\n",
      "Trainable params: 2\n",
      "Non-trainable params: 0\n",
      "_________________________________________________________________\n"
     ]
    }
   ],
   "source": [
    "# (1) 입력층 구성하기 - 입력값의 형태 결정하기\n",
    "inputs = Input(shape=(1,), name='inputs')\n",
    "print(\"inputs : \",inputs)\n",
    "\n",
    "# (2) 출력층 구성하기 - 출력값의 형태 결정하기\n",
    "dense_layer = Dense(units=1, name='output')\n",
    "print(\"dense_layer : \", dense_layer)\n",
    "\n",
    "# (3) 입력층과 출령층을 연결하기 - 레이어를 연결하기\n",
    "output = dense_layer(inputs)\n",
    "print(\"output : \", output)\n",
    "\n",
    "# (4) 모델로 구성하기\n",
    "model = Model(inputs, output, name='model')\n",
    "model.summary()"
   ]
  },
  {
   "cell_type": "markdown",
   "metadata": {},
   "source": [
    "가중치($w_{0}, w_{1}$)는 우리가 연결했던 Dense Layer에 저장되어 있습니다.<br>\n",
    "`Dense`레이어의 `Param #`에 적힌 $2$의 의미는 Dense층에서 학습할 가중치가 2개라는 뜻입니다. 확인해봅시다."
   ]
  },
  {
   "cell_type": "code",
   "execution_count": 12,
   "metadata": {},
   "outputs": [
    {
     "data": {
      "text/plain": [
       "(array([[0.01978743]], dtype=float32), array([0.], dtype=float32))"
      ]
     },
     "execution_count": 12,
     "metadata": {},
     "output_type": "execute_result"
    }
   ],
   "source": [
    "# w1, w0\n",
    "w1 = dense_layer.get_weights()[0]\n",
    "w0 = dense_layer.get_weights()[1]\n",
    "w1, w0"
   ]
  },
  {
   "cell_type": "markdown",
   "metadata": {},
   "source": [
    "### (3) 모델에 데이터 입력하여 예측값 구하기 "
   ]
  },
  {
   "cell_type": "markdown",
   "metadata": {},
   "source": [
    "위 가중치 값은 아직 모델을 학습하여 최적의 가중치를 찾기 전, 임의로 지정한 값입니다. 위의 모델에 입력값을 넣어 출력값을 계산해보도록 하겠습니다."
   ]
  },
  {
   "cell_type": "code",
   "execution_count": 13,
   "metadata": {},
   "outputs": [
    {
     "name": "stdout",
     "output_type": "stream",
     "text": [
      "(1, 1)\n"
     ]
    },
    {
     "data": {
      "text/plain": [
       "array([[0.01978743]], dtype=float32)"
      ]
     },
     "metadata": {},
     "output_type": "display_data"
    }
   ],
   "source": [
    "x = np.array([[1.]],np.float32)\n",
    "print(x.shape)\n",
    "display(model.predict(x))"
   ]
  },
  {
   "cell_type": "code",
   "execution_count": 14,
   "metadata": {},
   "outputs": [
    {
     "name": "stdout",
     "output_type": "stream",
     "text": [
      "(1, 1)\n"
     ]
    },
    {
     "data": {
      "text/plain": [
       "array([[0.03957486]], dtype=float32)"
      ]
     },
     "execution_count": 14,
     "metadata": {},
     "output_type": "execute_result"
    }
   ],
   "source": [
    "# x에 2의 값을 넣었을 때, y값은? w_1*2 + w_0\n",
    "x = np.array([[2.]],np.float32)\n",
    "print(x.shape)\n",
    "model.predict(x)"
   ]
  },
  {
   "cell_type": "code",
   "execution_count": 15,
   "metadata": {},
   "outputs": [
    {
     "data": {
      "text/plain": [
       "array([[0.01978743]], dtype=float32)"
      ]
     },
     "metadata": {},
     "output_type": "display_data"
    },
    {
     "data": {
      "text/plain": [
       "array([[0.01978743],\n",
       "       [0.03957486]], dtype=float32)"
      ]
     },
     "metadata": {},
     "output_type": "display_data"
    }
   ],
   "source": [
    "# x에 1의 값을 넣었을 때, y값은? w_1 * 1 + w_0\n",
    "x = np.array([[1.]],np.float32)\n",
    "display(model.predict(x))\n",
    "\n",
    "# x에 2의 값을 넣었을 때, y값은? w_1 * 2 + w_0\n",
    "x = np.array([[1.],[2.]],np.float32)\n",
    "display(model.predict(x))"
   ]
  },
  {
   "cell_type": "markdown",
   "metadata": {},
   "source": [
    "이 때 입력값 `x`의 형태는 `(1,1)`이 됩니다. shape의 첫번째 값, 즉 첫번째 축은 처리할 데이터 배치(Batch)의 수를 의미하고 두번째 축은 데이터 내 입력 변수의 갯수를 의미합니다. "
   ]
  },
  {
   "cell_type": "code",
   "execution_count": 16,
   "metadata": {},
   "outputs": [
    {
     "data": {
      "text/plain": [
       "(2, 1)"
      ]
     },
     "execution_count": 16,
     "metadata": {},
     "output_type": "execute_result"
    }
   ],
   "source": [
    "x.shape"
   ]
  },
  {
   "cell_type": "markdown",
   "metadata": {},
   "source": [
    "동시에 3가지 값을 처리하고 싶다면, 입력값의 형태가 `(3,1)`이 되게 하여 아래와 같이 넣어주면 됩니다."
   ]
  },
  {
   "cell_type": "code",
   "execution_count": 17,
   "metadata": {},
   "outputs": [
    {
     "data": {
      "text/plain": [
       "(3, 1)"
      ]
     },
     "execution_count": 17,
     "metadata": {},
     "output_type": "execute_result"
    }
   ],
   "source": [
    "# 동시에 세 가지 케이스 1., 2., 3.를 넣었을 때 처리 (병렬 처리)\n",
    "x = np.array([[1.],[2.],[3.]],np.float32)\n",
    "x.shape"
   ]
  },
  {
   "cell_type": "code",
   "execution_count": 18,
   "metadata": {},
   "outputs": [
    {
     "data": {
      "text/plain": [
       "array([[0.01978743],\n",
       "       [0.03957486],\n",
       "       [0.05936229]], dtype=float32)"
      ]
     },
     "metadata": {},
     "output_type": "display_data"
    }
   ],
   "source": [
    "display(model.predict(x))"
   ]
  },
  {
   "cell_type": "markdown",
   "metadata": {},
   "source": [
    "## 3. 케라스로 모델 학습시키기\n",
    "\n",
    "이제 케라스로 선형회귀 모델을 구성하는 방법을 배웠으니, 예제 데이터를 넣어 모델을 학습시켜봅시다. "
   ]
  },
  {
   "cell_type": "markdown",
   "metadata": {},
   "source": [
    "### 예제 데이터 ) 빅데이터로 예측한 '옥자' 관객 수\n",
    "\n",
    "* 이전까지 개봉했던 영화의 보고싶어요 수와 관객 수를 바탕으로, 옥자의 예상 관객 수 예측하기\n",
    "\n",
    "아래의 데이터는 영화 추천 프로그램 `왓챠`의 '보고싶어요'수와 실제 관객수를 바탕으로 2017년 개봉한 영화 \"옥자\"의 '보고싶어요'수를 기준으로 \"옥자\"의 총 관객 수를 예측해보기 위한 데이터입니다.\n",
    "\n",
    "참고 : [빅데이터로 예측한 옥자 관객 수 727만 명](http://platum.kr/wp-content/uploads/2017/06/unnamed-12.png)\n",
    "<img src=\"http://platum.kr/wp-content/uploads/2017/06/unnamed-12.png\" width=\"500\" height=\"500\"/><br>"
   ]
  },
  {
   "cell_type": "markdown",
   "metadata": {},
   "source": [
    "| 영화 제목 | 왓챠'보고싶어요' 수 | 총 관객 수(만명) | \n",
    "| ------  | -------        | -----    |\n",
    "| 마션     | 8759           | 487      |\n",
    "| 킹스맨   | 10132           | 612     |\n",
    "| 캡틴아메리카 | 12078         | 866     |\n",
    "| 인터스텔라 | 16430          | 1030    |\n",
    "| 옥자     | 12008          | ?       |"
   ]
  },
  {
   "cell_type": "code",
   "execution_count": 19,
   "metadata": {
    "scrolled": true
   },
   "outputs": [
    {
     "data": {
      "text/html": [
       "<div>\n",
       "<style scoped>\n",
       "    .dataframe tbody tr th:only-of-type {\n",
       "        vertical-align: middle;\n",
       "    }\n",
       "\n",
       "    .dataframe tbody tr th {\n",
       "        vertical-align: top;\n",
       "    }\n",
       "\n",
       "    .dataframe thead th {\n",
       "        text-align: right;\n",
       "    }\n",
       "</style>\n",
       "<table border=\"1\" class=\"dataframe\">\n",
       "  <thead>\n",
       "    <tr style=\"text-align: right;\">\n",
       "      <th></th>\n",
       "      <th>nums_want_to_see</th>\n",
       "      <th>nums_audience</th>\n",
       "    </tr>\n",
       "  </thead>\n",
       "  <tbody>\n",
       "    <tr>\n",
       "      <th>마션</th>\n",
       "      <td>8759</td>\n",
       "      <td>487</td>\n",
       "    </tr>\n",
       "    <tr>\n",
       "      <th>킹스맨</th>\n",
       "      <td>10132</td>\n",
       "      <td>612</td>\n",
       "    </tr>\n",
       "    <tr>\n",
       "      <th>캡틴아메리카</th>\n",
       "      <td>12078</td>\n",
       "      <td>866</td>\n",
       "    </tr>\n",
       "    <tr>\n",
       "      <th>인터스텔라</th>\n",
       "      <td>16430</td>\n",
       "      <td>1030</td>\n",
       "    </tr>\n",
       "  </tbody>\n",
       "</table>\n",
       "</div>"
      ],
      "text/plain": [
       "        nums_want_to_see  nums_audience\n",
       "마션                  8759            487\n",
       "킹스맨                10132            612\n",
       "캡틴아메리카             12078            866\n",
       "인터스텔라              16430           1030"
      ]
     },
     "execution_count": 19,
     "metadata": {},
     "output_type": "execute_result"
    }
   ],
   "source": [
    "movie_df = pd.DataFrame([\n",
    "    [8759, 487],\n",
    "    [10132,612],\n",
    "    [12078,866],\n",
    "    [16430,1030]],\n",
    "    columns=[\"nums_want_to_see\",\"nums_audience\"])\n",
    "movie_df.index = [\"마션\",\"킹스맨\",\"캡틴아메리카\",\"인터스텔라\"]\n",
    "movie_df"
   ]
  },
  {
   "cell_type": "markdown",
   "metadata": {},
   "source": [
    "1) 모델링 <br>\n",
    "2) 어떤 방향으로 학습 - 손실함수  <br>\n",
    "3)  <br>\n",
    "4)"
   ]
  },
  {
   "cell_type": "markdown",
   "metadata": {},
   "source": [
    "### (1) 모델의 손실함수 지정하기\n",
    "\n",
    "케라스로 만든 선형회귀 모델을 최종 컴파일하기 전에, '손실함수'와 '옵티마이저'를 지정해야 합니다. <br>\n",
    "손실함수는 손실을 계산하는 함수로, 손실(losses)은 모델을 훈련하는 동안 최소화되어야 하는 값을 뜻합니다. 모델의 목적에 맞게 손실 함수를 구성해야 합니다.<br>\n",
    "\n",
    "대표적인 손실함수로는 아래의 두가지가 있습니다.\n",
    "\n",
    "| 목적 | 출력값의 형태 | 손실 함수 |\n",
    "| ---- | ------    | -----   |\n",
    "| 값을 예측 | 실수 범위($-\\infty \\mbox{~} \\infty$) | Mean Squared Error |\n",
    "| 값을 분류 | 확률 ($0 \\mbox{~} 1$) | Categorical Crossentropy |"
   ]
  },
  {
   "cell_type": "code",
   "execution_count": 20,
   "metadata": {},
   "outputs": [],
   "source": [
    "from tensorflow.keras.losses import MeanSquaredError          # 목적 : Regression\n",
    "from tensorflow.keras.losses import CategoricalCrossentropy   # 목적 : Classification"
   ]
  },
  {
   "cell_type": "code",
   "execution_count": 21,
   "metadata": {},
   "outputs": [
    {
     "name": "stdout",
     "output_type": "stream",
     "text": [
      "<tensorflow.python.keras.losses.MeanSquaredError object at 0x0000022061DF7940>\n"
     ]
    }
   ],
   "source": [
    "# 우리의 목적 : 영화 옥자를 몇명이나 볼지 그 '수'를 예측하는 문제\n",
    "\n",
    "loss = MeanSquaredError()\n",
    "print(loss)\n",
    "# loss = CategoricalCrossentropy() <- 특정 클래스를 분류하는 문제인 경우"
   ]
  },
  {
   "cell_type": "markdown",
   "metadata": {},
   "source": [
    "<img src = 'https://i.imgur.com/BwyRYZE.png' width = 800>"
   ]
  },
  {
   "cell_type": "markdown",
   "metadata": {},
   "source": [
    "### (2) 모델의 최적화함수(Optimizer) 지정하기\n",
    "\n",
    "뉴럴네트워크에서 학습해야 하는 값은 각 뉴런사이의 연결에 대한 가중치입니다.<br>\n",
    "현재 우리의 모델은 2가지 가중치로 이루어져 있습니다.\n",
    "\n",
    "$$\n",
    "\\hat y(x) = w_1 x + w_0\n",
    "$$\n"
   ]
  },
  {
   "cell_type": "code",
   "execution_count": 22,
   "metadata": {},
   "outputs": [
    {
     "data": {
      "text/plain": [
       "[array([[0.01978743]], dtype=float32), array([0.], dtype=float32)]"
      ]
     },
     "execution_count": 22,
     "metadata": {},
     "output_type": "execute_result"
    }
   ],
   "source": [
    "# weight, bias\n",
    "model.get_weights()"
   ]
  },
  {
   "cell_type": "markdown",
   "metadata": {},
   "source": [
    "우리는 이 $w_1$와 $b_1$는 우리의 데이터에 맞게 바꾸는 것을 목표로 합니다. <br> \n",
    "우리의 목표는 가장 낮은 손실함수 값을 보이는 $w_1$와 $b_1$을 찾는 것입니다.\n",
    "\n",
    "그럼 가중치에 따른 손실함수는 어떻게 그려질까요?\n",
    "\n",
    "<img src=\"https://i.imgur.com/DEdzdin.png\" width=\"500\">"
   ]
  },
  {
   "cell_type": "markdown",
   "metadata": {},
   "source": [
    "위 그림은 모든 $w_1$와 $w_0$에 대해 손실함수 값을 일일히 대입해본 결과입니다. <br>\n",
    "우리가 여기서 찾아야 하는 것은 해당 손실함수에서 가장 낮은 점을 찾는 것입니다. 이 값을 어떻게 찾는 것이 가장 좋을까요? <br>"
   ]
  },
  {
   "cell_type": "markdown",
   "metadata": {},
   "source": [
    "먼저 무작위로 한 점을 찍습니다.\n",
    "<img src=\"https://i.imgur.com/PLCpb9H.png\" width=\"500\" >"
   ]
  },
  {
   "cell_type": "markdown",
   "metadata": {},
   "source": [
    "이 점에서 손실함수를 줄이려면 어떻게 하는 것이 좋을까요? <br> \n",
    "우리는 위의 점을 보았을 때, 직관적으로 + 점을 기준으로 어느 방향으로 바꾸어야 하는지를 알 수 있습니다. <br>\n",
    "\n",
    "해당 점에서 손실함수가 줄어드는 방향으로 점을 이동해주면 됩니다.<br>\n",
    "해당 점에서 손실함수가 줄어드는 방향, 바로 해당 점의 기울기 반대 방향이 됩니다.<br>\n",
    "\n",
    "이렇게 기울기의 반대 방향으로 값을 갱신하는 방식을 Gradient Descent 방식이라 하고, 딥러닝 모델은 Gradient Descent 방식으로 가중치를 갱신합니다.\n",
    "\n",
    "$$\n",
    "w_1 := w_1 - \\alpha \\frac{\\partial L}{\\partial w_1} \\\\\n",
    "w_0 := w_0 - \\alpha \\frac{\\partial L}{\\partial w_0}\n",
    "$$\n",
    "\n",
    "이 때 $\\alpha$는 학습률(learning rate)로, 얼마나 가중치를 갱신할 것인지를 결정해주는 인자입니다. 우리는 데이터에 따라 $\\alpha$를 지정하게 됩니다."
   ]
  },
  {
   "cell_type": "markdown",
   "metadata": {},
   "source": [
    "Gradient Descent는 아래와 같이 진행됩니다.\n",
    "\n",
    "![Imgur](https://i.imgur.com/ypHrbxt.png)\n",
    "\n",
    "손실함수가 충분히 줄어들 때까지 기울기에 따라 가중치를 반복적으로 갱신하는 과정을 거칩니다.<br>\n",
    "\n",
    "텐서플로우와 케라스에서는 이렇게 데이터에 따라 가중치를 갱신하는 알고리즘을 `tensorflow.keras.optimizers`에서 제공해줍니다."
   ]
  },
  {
   "cell_type": "markdown",
   "metadata": {},
   "source": [
    "w_1에 대한 Loss의 기울기 = w1이 변화할때 loss가 얼마나 변화했냐 <br>\n",
    "* 완만하다 = loss가 조금 변한다 / 가파르다 = loss가 급격히 변한다\n",
    "* 수렵 지점에서는 완만 / 수렴 전에는 가파르다\n",
    "* gradient descent는 기울기를 고려하여 움직이는 것이다 = 경사 하강법\n",
    "* 학습율 - 변수 대비 loss가 얼마만큼 바뀌니"
   ]
  },
  {
   "cell_type": "code",
   "execution_count": 23,
   "metadata": {},
   "outputs": [
    {
     "data": {
      "text/plain": [
       "<tensorflow.python.keras.optimizer_v2.gradient_descent.SGD at 0x2206bf86748>"
      ]
     },
     "execution_count": 23,
     "metadata": {},
     "output_type": "execute_result"
    }
   ],
   "source": [
    "from tensorflow.keras.optimizers import SGD, RMSprop, Adagrad, Adam\n",
    "\n",
    "optimizer = SGD(2e-10)\n",
    "optimizer"
   ]
  },
  {
   "cell_type": "markdown",
   "metadata": {},
   "source": [
    "### (3) 모델 컴파일하기\n",
    "\n",
    "위에서 지정한 optimizer와 loss 함수를 모델에 적용하는 것은 compile을 통해 이루어집니다."
   ]
  },
  {
   "cell_type": "code",
   "execution_count": 24,
   "metadata": {},
   "outputs": [],
   "source": [
    "model.compile(loss=loss, optimizer=optimizer)"
   ]
  },
  {
   "cell_type": "markdown",
   "metadata": {},
   "source": [
    "### (4) 선형회귀 모형 학습시키기\n",
    "\n",
    "입력 데이터(x)와 그에 상응하는 타깃 데이터(y)의 쌍을 통해, 모형 내 가중치들이 학습됩니다. <br>\n",
    "현재 `linear_model`은 학습이 전혀 되지 않은 상태입니다."
   ]
  },
  {
   "cell_type": "code",
   "execution_count": 25,
   "metadata": {},
   "outputs": [
    {
     "data": {
      "text/html": [
       "<div>\n",
       "<style scoped>\n",
       "    .dataframe tbody tr th:only-of-type {\n",
       "        vertical-align: middle;\n",
       "    }\n",
       "\n",
       "    .dataframe tbody tr th {\n",
       "        vertical-align: top;\n",
       "    }\n",
       "\n",
       "    .dataframe thead th {\n",
       "        text-align: right;\n",
       "    }\n",
       "</style>\n",
       "<table border=\"1\" class=\"dataframe\">\n",
       "  <thead>\n",
       "    <tr style=\"text-align: right;\">\n",
       "      <th></th>\n",
       "      <th>nums_want_to_see</th>\n",
       "      <th>nums_audience</th>\n",
       "      <th>prediction</th>\n",
       "    </tr>\n",
       "  </thead>\n",
       "  <tbody>\n",
       "    <tr>\n",
       "      <th>마션</th>\n",
       "      <td>8759</td>\n",
       "      <td>487</td>\n",
       "      <td>173.318100</td>\n",
       "    </tr>\n",
       "    <tr>\n",
       "      <th>킹스맨</th>\n",
       "      <td>10132</td>\n",
       "      <td>612</td>\n",
       "      <td>200.486252</td>\n",
       "    </tr>\n",
       "    <tr>\n",
       "      <th>캡틴아메리카</th>\n",
       "      <td>12078</td>\n",
       "      <td>866</td>\n",
       "      <td>238.992584</td>\n",
       "    </tr>\n",
       "    <tr>\n",
       "      <th>인터스텔라</th>\n",
       "      <td>16430</td>\n",
       "      <td>1030</td>\n",
       "      <td>325.107483</td>\n",
       "    </tr>\n",
       "  </tbody>\n",
       "</table>\n",
       "</div>"
      ],
      "text/plain": [
       "        nums_want_to_see  nums_audience  prediction\n",
       "마션                  8759            487  173.318100\n",
       "킹스맨                10132            612  200.486252\n",
       "캡틴아메리카             12078            866  238.992584\n",
       "인터스텔라              16430           1030  325.107483"
      ]
     },
     "execution_count": 25,
     "metadata": {},
     "output_type": "execute_result"
    }
   ],
   "source": [
    "# 학습이 전혀 되지 않았을 때의 예측 값\n",
    "y_pred = model.predict(movie_df['nums_want_to_see'])\n",
    "movie_df['prediction'] = y_pred\n",
    "movie_df"
   ]
  },
  {
   "cell_type": "code",
   "execution_count": 26,
   "metadata": {},
   "outputs": [
    {
     "data": {
      "text/plain": [
       "[array([[0.01978743]], dtype=float32), array([0.], dtype=float32)]"
      ]
     },
     "execution_count": 26,
     "metadata": {},
     "output_type": "execute_result"
    }
   ],
   "source": [
    "# 학습이 전혀 되지 않았을 때의 Weight\n",
    "model.get_weights()"
   ]
  },
  {
   "cell_type": "markdown",
   "metadata": {},
   "source": [
    "케라스에서는 입력 데이터와 타깃 데이터에 맞춰 가중치들을 갱신해주는 함수가 `model.fit()`으로 구현되어 있습니다.<br>\n",
    "학습을 100번만 해보도록 하겠습니다."
   ]
  },
  {
   "cell_type": "code",
   "execution_count": 27,
   "metadata": {},
   "outputs": [],
   "source": [
    "history = model.fit(x=movie_df['nums_want_to_see'], \n",
    "                    y=movie_df['nums_audience'], \n",
    "                    epochs=100, verbose=0)"
   ]
  },
  {
   "cell_type": "code",
   "execution_count": 28,
   "metadata": {},
   "outputs": [
    {
     "data": {
      "text/html": [
       "<div>\n",
       "<style scoped>\n",
       "    .dataframe tbody tr th:only-of-type {\n",
       "        vertical-align: middle;\n",
       "    }\n",
       "\n",
       "    .dataframe tbody tr th {\n",
       "        vertical-align: top;\n",
       "    }\n",
       "\n",
       "    .dataframe thead th {\n",
       "        text-align: right;\n",
       "    }\n",
       "</style>\n",
       "<table border=\"1\" class=\"dataframe\">\n",
       "  <thead>\n",
       "    <tr style=\"text-align: right;\">\n",
       "      <th></th>\n",
       "      <th>nums_want_to_see</th>\n",
       "      <th>nums_audience</th>\n",
       "      <th>prediction</th>\n",
       "    </tr>\n",
       "  </thead>\n",
       "  <tbody>\n",
       "    <tr>\n",
       "      <th>마션</th>\n",
       "      <td>8759</td>\n",
       "      <td>487</td>\n",
       "      <td>556.156128</td>\n",
       "    </tr>\n",
       "    <tr>\n",
       "      <th>킹스맨</th>\n",
       "      <td>10132</td>\n",
       "      <td>612</td>\n",
       "      <td>643.335266</td>\n",
       "    </tr>\n",
       "    <tr>\n",
       "      <th>캡틴아메리카</th>\n",
       "      <td>12078</td>\n",
       "      <td>866</td>\n",
       "      <td>766.897339</td>\n",
       "    </tr>\n",
       "    <tr>\n",
       "      <th>인터스텔라</th>\n",
       "      <td>16430</td>\n",
       "      <td>1030</td>\n",
       "      <td>1043.229248</td>\n",
       "    </tr>\n",
       "  </tbody>\n",
       "</table>\n",
       "</div>"
      ],
      "text/plain": [
       "        nums_want_to_see  nums_audience   prediction\n",
       "마션                  8759            487   556.156128\n",
       "킹스맨                10132            612   643.335266\n",
       "캡틴아메리카             12078            866   766.897339\n",
       "인터스텔라              16430           1030  1043.229248"
      ]
     },
     "execution_count": 28,
     "metadata": {},
     "output_type": "execute_result"
    }
   ],
   "source": [
    "# 학습이 전혀 되지 않았을 때의 예측 값\n",
    "y_pred = model.predict(movie_df['nums_want_to_see'].values)\n",
    "\n",
    "movie_df['prediction'] = y_pred\n",
    "movie_df"
   ]
  },
  {
   "cell_type": "markdown",
   "metadata": {},
   "source": [
    "`history.history`에는 훈련을 반복할 때마다 모델의 손실을 기록하였습니다. 이를 시각화해보면, 모델의 손실이 얼만큼씩 줄어들면서 가중치가 갱신되었는지 알 수 있습니다. 40회차 정도 학습이 진행되었을 때, 손실이 줄어드는 정도가 급격히 줄어든 것을 알 수 있습니다. 100번까지 학습시켰으니, 더 이상 손실을 줄일 수 없는 정도에서 최종 가중치가 결정되었습니다. "
   ]
  },
  {
   "cell_type": "code",
   "execution_count": 29,
   "metadata": {},
   "outputs": [
    {
     "data": {
      "image/png": "[encoded data removed]",
      "text/plain": [
       "<Figure size 432x288 with 1 Axes>"
      ]
     },
     "metadata": {
      "needs_background": "light"
     },
     "output_type": "display_data"
    }
   ],
   "source": [
    "plt.plot(history.history['loss'])\n",
    "plt.show()"
   ]
  },
  {
   "cell_type": "markdown",
   "metadata": {},
   "source": [
    "### (3) 결과 시각화하기\n",
    "이제 이렇게 학습된 모델의 최종 추세선을 그려봅시다. "
   ]
  },
  {
   "cell_type": "code",
   "execution_count": 30,
   "metadata": {},
   "outputs": [
    {
     "data": {
      "image/png": "[encoded data removed]",
      "text/plain": [
       "<Figure size 432x288 with 1 Axes>"
      ]
     },
     "metadata": {
      "needs_background": "light"
     },
     "output_type": "display_data"
    }
   ],
   "source": [
    "pred_inputs = np.arange(7500, 18000)\n",
    "pred_outputs = model.predict(pred_inputs[:,None])\n",
    "\n",
    "movie_df.plot(x='nums_want_to_see',y='nums_audience',\n",
    "              kind='scatter', title=\"Movie\")\n",
    "plt.plot(pred_inputs, pred_outputs, 'r--')\n",
    "plt.show()"
   ]
  },
  {
   "cell_type": "markdown",
   "metadata": {},
   "source": [
    "연결의 형태 어떻게 구성 / 손실함수 구성 / 손실함수에 따라 weight를 어떻게 바꿔줄거니 **핵심 3개**"
   ]
  },
  {
   "cell_type": "markdown",
   "metadata": {},
   "source": [
    "#  \n",
    "\n",
    "---\n",
    "\n",
    "    Copyright(c) 2019 by Public AI. All rights reserved.\n",
    "    Writen by PAI, SangJae Kang ( rocketgrowthsj@publicai.co.kr )  last updated on 2019/09/16\n",
    "\n",
    "\n",
    "---"
   ]
  }
 ],
 "metadata": {
  "kernelspec": {
   "display_name": "Python 3",
   "language": "python",
   "name": "python3"
  },
  "language_info": {
   "codemirror_mode": {
    "name": "ipython",
    "version": 3
   },
   "file_extension": ".py",
   "mimetype": "text/x-python",
   "name": "python",
   "nbconvert_exporter": "python",
   "pygments_lexer": "ipython3",
   "version": "3.6.10"
  },
  "toc": {
   "base_numbering": 1,
   "nav_menu": {},
   "number_sections": false,
   "sideBar": true,
   "skip_h1_title": false,
   "title_cell": "Table of Contents",
   "title_sidebar": "Contents",
   "toc_cell": false,
   "toc_position": {
    "height": "calc(100% - 180px)",
    "left": "10px",
    "top": "150px",
    "width": "165px"
   },
   "toc_section_display": true,
   "toc_window_display": true
  },
  "varInspector": {
   "cols": {
    "lenName": 16,
    "lenType": 16,
    "lenVar": 40
   },
   "kernels_config": {
    "python": {
     "delete_cmd_postfix": "",
     "delete_cmd_prefix": "del ",
     "library": "var_list.py",
     "varRefreshCmd": "print(var_dic_list())"
    },
    "r": {
     "delete_cmd_postfix": ") ",
     "delete_cmd_prefix": "rm(",
     "library": "var_list.r",
     "varRefreshCmd": "cat(var_dic_list()) "
    }
   },
   "types_to_exclude": [
    "module",
    "function",
    "builtin_function_or_method",
    "instance",
    "_Feature"
   ],
   "window_display": false
  }
 },
 "nbformat": 4,
 "nbformat_minor": 4
}
