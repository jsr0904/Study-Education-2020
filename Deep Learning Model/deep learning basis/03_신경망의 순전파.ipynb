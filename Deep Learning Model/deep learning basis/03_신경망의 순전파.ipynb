{
 "cells": [
  {
   "cell_type": "markdown",
   "metadata": {},
   "source": [
    "\n",
    "# 신경망의 순전파\n",
    "\n",
    "### _Objective_\n",
    "1. **Feedforward Network**: Feedforward Network가 무엇인지 알아봅니다.<br>\n",
    "2. **Feedforward with Keras**: Keras를 사용해 feedforward 모델을 모델링해봅니다.<br>\n",
    "3. **Feedforward with Numpy**: Numpy를 사용해 간단하게 순전파 수식을 구현해 봅니다.<br>"
   ]
  },
  {
   "cell_type": "code",
   "execution_count": 1,
   "metadata": {},
   "outputs": [],
   "source": [
    "%matplotlib inline\n",
    "\n",
    "import os\n",
    "import numpy as np\n",
    "import pandas as pd\n",
    "\n",
    "import matplotlib.pyplot as plt\n",
    "from tensorflow.keras.utils import get_file"
   ]
  },
  {
   "cell_type": "markdown",
   "metadata": {},
   "source": [
    "# \\[ 1. Feedforward Network \\]\n",
    "\n",
    "순전파(Feedforward)란 신경망에서 입력층부터 출력층까지 각 층을 거쳐가며 신호가 타고넘어가는 일련의 과정을 뜻합니다. 입력층부터 출력층까지 앞에서 뒤로 신호가 타고 넘어가 '순전파'라는 이름이 붙었습니다. Keras와 Numpy를 이용해 구현해보겠습니다. <br>\n",
    "* x -> y : 계산하는 방식 = 모델의 활용\n",
    "* x <- y : 손실함수를 통해 각 층의 grdient를 업데이트 하는 방식 = 모델을 학습"
   ]
  },
  {
   "cell_type": "markdown",
   "metadata": {},
   "source": [
    "## 1. 유닛 단위의 순전파 연산\n",
    "\n",
    "순전파에서 유닛의 연산은 아래의 두 단계로 이루어져 있습니다. 각층에서 입력값을 수합하는 로짓과, 해당 로짓값에 따라 어떠한 시그널을 반환할지 결정하는 활성화 함수로 나누어져 있습니다.<br>\n",
    "\n",
    "1. 로짓(z)를 계산하는 부분 : <br>\n",
    "$\n",
    "z = w_0 + w_1x_1 + w_2x_2 + w_3x_3\\\\\n",
    "$\n",
    "\n",
    "2. 활성화 함수($\\sigma$)를 거치는 부분 : <br>\n",
    "$a = \\sigma(z) = \\frac{1}{1+e^{-z}}$\n",
    "\n",
    "<img src=\"https://i.imgur.com/26G8oSL.png\" width=\"600\" height=\"450\"/>\n",
    "\n"
   ]
  },
  {
   "cell_type": "markdown",
   "metadata": {},
   "source": [
    "## 2. 층 단위의 순전파 연산"
   ]
  },
  {
   "cell_type": "markdown",
   "metadata": {},
   "source": [
    "\n",
    "$$x=\\left[\\begin{array}{rrr} \n",
    "x_1 \\\\\n",
    "x_2 \\\\\n",
    "x_3 \n",
    "\\end{array}\\right]$$"
   ]
  },
  {
   "cell_type": "markdown",
   "metadata": {},
   "source": [
    "입력층과 은닉층(유닛 수, 활성화 함수 등)을 설정하는 방법을 살펴보았습니다. 그럼 이제 아래와 같이 생긴 2층 신경망을 처음부터 끝까지 구현하는 코드를 살펴봅시다.  \n",
    "\n",
    "<img src=\"https://i.imgur.com/T9jkFuv.png\" width=\"600\" height=\"450\"/><br>\n",
    "\n",
    "$$\n",
    "z1 = X\\cdot W1 + b1 \\\\\n",
    "a1 = \\sigma(z1) \\\\\n",
    "z2 = a1 \\cdot W2 + b2 \\\\\n",
    "\\hat y = \\sigma(z2)\n",
    "$$"
   ]
  },
  {
   "cell_type": "markdown",
   "metadata": {},
   "source": [
    "# \\[ 2. Keras로 Feedforward Network 구현하기 \\]"
   ]
  },
  {
   "cell_type": "markdown",
   "metadata": {},
   "source": [
    "### 예제 데이터 ) 암 환자 데이터 셋\n",
    "\n",
    "나이와 종양크기를 바탕으로 암 환자의 종양이 양성인지 음성인지를 분류하는 데이터셋입니다."
   ]
  },
  {
   "cell_type": "code",
   "execution_count": 5,
   "metadata": {
    "scrolled": false
   },
   "outputs": [
    {
     "data": {
      "text/html": [
       "<div>\n",
       "<style scoped>\n",
       "    .dataframe tbody tr th:only-of-type {\n",
       "        vertical-align: middle;\n",
       "    }\n",
       "\n",
       "    .dataframe tbody tr th {\n",
       "        vertical-align: top;\n",
       "    }\n",
       "\n",
       "    .dataframe thead th {\n",
       "        text-align: right;\n",
       "    }\n",
       "</style>\n",
       "<table border=\"1\" class=\"dataframe\">\n",
       "  <thead>\n",
       "    <tr style=\"text-align: right;\">\n",
       "      <th></th>\n",
       "      <th>age</th>\n",
       "      <th>tumor_size</th>\n",
       "      <th>label</th>\n",
       "    </tr>\n",
       "  </thead>\n",
       "  <tbody>\n",
       "    <tr>\n",
       "      <th>0</th>\n",
       "      <td>2.170865</td>\n",
       "      <td>3.087710</td>\n",
       "      <td>0.0</td>\n",
       "    </tr>\n",
       "    <tr>\n",
       "      <th>1</th>\n",
       "      <td>8.000731</td>\n",
       "      <td>5.237815</td>\n",
       "      <td>1.0</td>\n",
       "    </tr>\n",
       "    <tr>\n",
       "      <th>2</th>\n",
       "      <td>5.248661</td>\n",
       "      <td>5.851058</td>\n",
       "      <td>1.0</td>\n",
       "    </tr>\n",
       "    <tr>\n",
       "      <th>3</th>\n",
       "      <td>3.433496</td>\n",
       "      <td>4.278379</td>\n",
       "      <td>0.0</td>\n",
       "    </tr>\n",
       "    <tr>\n",
       "      <th>4</th>\n",
       "      <td>2.365321</td>\n",
       "      <td>3.508396</td>\n",
       "      <td>0.0</td>\n",
       "    </tr>\n",
       "  </tbody>\n",
       "</table>\n",
       "</div>"
      ],
      "text/plain": [
       "        age  tumor_size  label\n",
       "0  2.170865    3.087710    0.0\n",
       "1  8.000731    5.237815    1.0\n",
       "2  5.248661    5.851058    1.0\n",
       "3  3.433496    4.278379    0.0\n",
       "4  2.365321    3.508396    0.0"
      ]
     },
     "execution_count": 5,
     "metadata": {},
     "output_type": "execute_result"
    }
   ],
   "source": [
    "fpath = get_file(\"cancer_dataset.csv\",\n",
    "                 \"https://s3.ap-northeast-2.amazonaws.com/pai-datasets/alai-deeplearning/cancer_dataset.csv\")\n",
    "cancer_df = pd.read_csv(fpath)\n",
    "X = cancer_df[['age','tumor_size']]\n",
    "y = cancer_df[\"label\"]\n",
    "\n",
    "X = (X - X.min()) / (X.max() - X.min())\n",
    "\n",
    "cancer_df.head()"
   ]
  },
  {
   "cell_type": "code",
   "execution_count": 6,
   "metadata": {},
   "outputs": [
    {
     "data": {
      "image/png": "[encoded data removed]",
      "text/plain": [
       "<Figure size 504x504 with 1 Axes>"
      ]
     },
     "metadata": {
      "needs_background": "light"
     },
     "output_type": "display_data"
    }
   ],
   "source": [
    "### 데이터 시각화\n",
    "fig = plt.figure(figsize=(7,7))\n",
    "ax = fig.add_subplot(1,1,1)\n",
    "\n",
    "# 0: 정상\n",
    "X[y==0].plot('age','tumor_size',ax=ax,legend=True,\n",
    "                           kind='scatter',color='red')\n",
    "# 1: 암환자\n",
    "X[y==1].plot('age','tumor_size',ax=ax,legend=True,\n",
    "                           kind='scatter',color='green')\n",
    "plt.legend(['Normal','Cancer'])\n",
    "plt.title(\"Cancer Or Not\")\n",
    "plt.show()"
   ]
  },
  {
   "cell_type": "markdown",
   "metadata": {},
   "source": [
    "### (1) Input 설정하기\n",
    "\n",
    "신경망의 Input Layer에 넣을 입력 신호를 설정하기 위해 keras에서는 `keras.layers.Input` API를 지원합니다."
   ]
  },
  {
   "cell_type": "code",
   "execution_count": 7,
   "metadata": {},
   "outputs": [],
   "source": [
    "from tensorflow.keras.layers import Input"
   ]
  },
  {
   "cell_type": "markdown",
   "metadata": {},
   "source": [
    "위 예제 데이터에서 입력 데이터 `X`는 나이(age)와 종양의 크기(tumor_size)로 구성됩니다. X가 2 가지이므로, 입력층의 shape은 `(2,)`으로 설정하여 `Input(shape=(2,), name='x')`로 입력층을 생성합니다."
   ]
  },
  {
   "cell_type": "code",
   "execution_count": 10,
   "metadata": {
    "scrolled": true
   },
   "outputs": [
    {
     "data": {
      "text/plain": [
       "<tf.Tensor 'x_2:0' shape=(None, 2) dtype=float32>"
      ]
     },
     "metadata": {},
     "output_type": "display_data"
    }
   ],
   "source": [
    "# 입력층\n",
    "inputs = Input(shape=(2,), name='x') # 나이, 종양의 크기\n",
    "display(inputs)\n",
    "# shape=(None, 2) = 병렬적으로 몇 개가 들어올지 몰라서 None임"
   ]
  },
  {
   "cell_type": "markdown",
   "metadata": {},
   "source": [
    "그런데 `display(inputs)`로 입력층의 내용을 출력해보면 `shape=(None, 2)`라고 확인됩니다. 여기서 None은 무슨 의미일까요? "
   ]
  },
  {
   "cell_type": "markdown",
   "metadata": {},
   "source": [
    "이전 Section에서 말했듯이 keras에서는 첫번째 축이 Batch 축으로 세팅되어 있으며, 따로 설정해 주지 않으면 None을 반환합니다. 위 예제에서 Batch 축을 따로 세팅하지 않았으므로, 입력층의 shape이 `(None,2)`가 됨을 볼 수 있습니다. \n",
    "\n",
    "데이터를 하나로 묶은 입력 데이터를 **배치(Batch)**라고 하는데, None은 입력한 데이터 전체를 하나로 묶어 처리한다는 뜻입니다. 위 예제에서는 batch를 따로 설정하지 않았기 때문에 100명 분의 데이터가 전부 한 번에 처리가 될 것입니다. batch를 10, 50 등으로 설정하면 10명, 50명 분의 데이터가 하나의 batch로 묶여서 돌아가게 됩니다.\n",
    "\n",
    "배치 처리를 수행함으로써 컴퓨터는 큰 배열로 이루어진 계산을 하게 되는데, 컴퓨터에서는 큰 배열을 한꺼번에 계산하는 것이 분할된 작은 배열을 여러 번 계산하는 것보다 빠릅니다. 덕분에 배치 처리를 하게 되면, 환자 한 명의 정보를 처리하는 것보다, 환자 한 명당 처리 시간이 대폭 줄어드는 이득을 얻을 수 있습니다."
   ]
  },
  {
   "cell_type": "markdown",
   "metadata": {},
   "source": [
    "### (2) 가중치(weight)와 편향(bias) 생성하기\n",
    "\n",
    "입력층이 설정되었습니다. 앞서 예로 든 것처럼 10개 유닛으로 구성된 1번 층을 만들어 2층 신경망을 구성하게 되면, 학습해야 하는 가중치와 편향에는 ($w_1$,$b_1$,$w_2$,$b_2$) 등이 있습니다. keras에서는 가중치를 계산하며 층을 쌓을 때는 `keras.layers.Dense` API를 이용합니다."
   ]
  },
  {
   "cell_type": "code",
   "execution_count": 11,
   "metadata": {},
   "outputs": [
    {
     "data": {
      "text/plain": [
       "<tf.Tensor 'dense/Identity:0' shape=(None, 10) dtype=float32>"
      ]
     },
     "execution_count": 11,
     "metadata": {},
     "output_type": "execute_result"
    }
   ],
   "source": [
    "from tensorflow.keras.layers import Dense\n",
    "dense1 = Dense(units=10)\n",
    "dense1(inputs)"
   ]
  },
  {
   "cell_type": "markdown",
   "metadata": {},
   "source": [
    "dense1의 가중치 $w_1$와 편향$b_1$가 어떤 형태인지 확인해봅시다. "
   ]
  },
  {
   "cell_type": "code",
   "execution_count": 18,
   "metadata": {},
   "outputs": [
    {
     "name": "stdout",
     "output_type": "stream",
     "text": [
      "input shape :  (None, 2)\n",
      "\n",
      "W >>> shape  : (2, 10)\n"
     ]
    },
    {
     "data": {
      "text/plain": [
       "array([[ 0.04098374,  0.17554092, -0.20379364,  0.0783987 ,  0.5352687 ,\n",
       "        -0.3559753 , -0.19818056, -0.25032142, -0.33734876,  0.06285697],\n",
       "       [-0.2717214 ,  0.05923641, -0.3021516 , -0.12542534, -0.638752  ,\n",
       "        -0.10704118, -0.16285187, -0.5131426 ,  0.5852068 , -0.54033357]],\n",
       "      dtype=float32)"
      ]
     },
     "metadata": {},
     "output_type": "display_data"
    },
    {
     "name": "stdout",
     "output_type": "stream",
     "text": [
      "b >>> shape  : (10,)\n"
     ]
    },
    {
     "data": {
      "text/plain": [
       "array([0., 0., 0., 0., 0., 0., 0., 0., 0., 0.], dtype=float32)"
      ]
     },
     "metadata": {},
     "output_type": "display_data"
    }
   ],
   "source": [
    "print(\"input shape : \",inputs.shape)\n",
    "#### [[x_1,x_2],[x_1,x_2],[x_1,x_2],...,[x_1,x_2]]\n",
    "print(\"\")\n",
    "\n",
    "W, b = dense1.get_weights() # W와 b로 되어있다.\n",
    "print(f\"W >>> shape  : {W.shape}\")\n",
    "display(W)\n",
    "\n",
    "print(f\"b >>> shape  : {b.shape}\")\n",
    "display(b) # broadcasing으로 (None, 10)이 됨. 결국 y는 (None, 10)"
   ]
  },
  {
   "cell_type": "markdown",
   "metadata": {},
   "source": [
    "위 내용을 보면, 입력 데이터의 크기에 맞게 자동으로 가중치(`W`와 `b`)가 생성되어 있음을 알 수 있습니다.<br>\n",
    "입력 데이터에 피쳐가 2가지이고 유닛은 10개이므로, $w_1$는 (2, 10) 형태를 가지게 되었으며, $b_1$은 (10,)의 형태를 가지게 되었습니다. "
   ]
  },
  {
   "cell_type": "markdown",
   "metadata": {},
   "source": [
    "10개의 유닛으로 구성된 1번째 층이 생성되었으니, 입력신호를 `dense1`층에 통과시켜 보겠습니다."
   ]
  },
  {
   "cell_type": "code",
   "execution_count": 19,
   "metadata": {},
   "outputs": [
    {
     "data": {
      "text/plain": [
       "<tf.Tensor 'dense_1/Identity:0' shape=(None, 10) dtype=float32>"
      ]
     },
     "execution_count": 19,
     "metadata": {},
     "output_type": "execute_result"
    }
   ],
   "source": [
    "dense1_out = dense1(inputs)\n",
    "dense1_out"
   ]
  },
  {
   "cell_type": "markdown",
   "metadata": {},
   "source": [
    "이렇게 1번째 층을 통과하여 얻어진`dense1_out1`은 활성화 함수의 입력값이 될 것입니다. "
   ]
  },
  {
   "cell_type": "markdown",
   "metadata": {},
   "source": [
    "### (3) 활성화 함수 적용하기"
   ]
  },
  {
   "cell_type": "markdown",
   "metadata": {},
   "source": [
    "활성화 함수로 딥러닝에서 가장 많이 쓰이는 `relu`함수를 이용해 입력 신호의 총합을 출력 신호로 변환하겠습니다. ReLU 함수란 아래와 같습니다.\n",
    "\n",
    "$$\n",
    "RELU(x) = \\begin{cases} \n",
    "x && \\mbox{if x } \\ge 0 \\\\\n",
    "0 && \\mbox{if x } < 0 \\\\\n",
    "\\end{cases}\n",
    "$$\n"
   ]
  },
  {
   "cell_type": "markdown",
   "metadata": {},
   "source": [
    "0보다 작은 값을 받으면 0을 반환하고, 0보다 크거나 같은 값을 받으면 입력 값을 그대로 반환하는 형태입니다.\n",
    "\n",
    "앞서 `dense1`을 통과하여 얻은 `dense1_out`을 `relu`에 입력하면 0 또는`x`로 변환된 `relu_out`을 얻을 수 있습니다."
   ]
  },
  {
   "cell_type": "code",
   "execution_count": 20,
   "metadata": {},
   "outputs": [
    {
     "data": {
      "text/plain": [
       "<tf.Tensor 'Relu:0' shape=(None, 10) dtype=float32>"
      ]
     },
     "execution_count": 20,
     "metadata": {},
     "output_type": "execute_result"
    }
   ],
   "source": [
    "from tensorflow.keras.activations import relu, sigmoid\n",
    "relu1_out = relu(dense1_out)\n",
    "relu1_out"
   ]
  },
  {
   "cell_type": "markdown",
   "metadata": {},
   "source": [
    "실제 신경망을 구성할 때는 층을 구성할 때 `activation`이라는 인자를 이용해 활성화 함수를 설정할 수 있습니다. 가령 1번째 층에서 유닛을 10개로 설정하고, 활성화 함수는 `relu`로 설정하려면 아래와 같이 설정하면 됩니다."
   ]
  },
  {
   "cell_type": "code",
   "execution_count": 22,
   "metadata": {},
   "outputs": [],
   "source": [
    "dense1 = Dense(10,activation='relu', name='hidden')\n",
    "dense1_output = dense1(inputs)"
   ]
  },
  {
   "cell_type": "markdown",
   "metadata": {},
   "source": [
    "### (4) 2층 신경망 구현하기\n",
    "\n",
    "입력층과 은닉층(유닛 수, 활성화 함수 등)을 설정하는 방법을 살펴보았습니다. 그럼 이제 아래와 같이 생긴 2층 신경망을 처음부터 끝까지 구현하는 코드를 살펴봅시다.  \n",
    "\n",
    "<img src=\"https://i.imgur.com/T9jkFuv.png\" width=\"600\" height=\"450\"/><br>\n",
    "\n",
    "$$\n",
    "z1 = X\\cdot W1 + b1 \\\\\n",
    "a1 = \\sigma(z1) \\\\\n",
    "z2 = a1 \\cdot W2 + b2 \\\\\n",
    "\\hat y = \\sigma(z2)\n",
    "$$\n",
    "\n",
    "keras에서는 keras의 함수형 API를 사용할 때, input과 output을 지정해주면 신경망의 흐름대로 모델을 생성하는 `keras.models.Model` API를 지원합니다. `Model`에 입력층과 출력층을 인자로 입력하면 신경망 모델이 생성됩니다."
   ]
  },
  {
   "cell_type": "code",
   "execution_count": 25,
   "metadata": {},
   "outputs": [
    {
     "name": "stdout",
     "output_type": "stream",
     "text": [
      "Model: \"train\"\n",
      "_________________________________________________________________\n",
      "Layer (type)                 Output Shape              Param #   \n",
      "=================================================================\n",
      "x (InputLayer)               [(None, 2)]               0         \n",
      "_________________________________________________________________\n",
      "hidden (Dense)               (None, 10)                30        \n",
      "_________________________________________________________________\n",
      "output (Dense)               (None, 1)                 11        \n",
      "=================================================================\n",
      "Total params: 41\n",
      "Trainable params: 41\n",
      "Non-trainable params: 0\n",
      "_________________________________________________________________\n"
     ]
    }
   ],
   "source": [
    "from tensorflow.keras.models import Model\n",
    "\n",
    "# 신경망 구현\n",
    "inputs = Input(2,name='x')\n",
    "\n",
    "dense1 = Dense(10,activation='relu', name='hidden')\n",
    "dense1_output = dense1(inputs)\n",
    "\n",
    "dense2 = Dense(1,activation='sigmoid', name='output')\n",
    "output = dense2(dense1_output)\n",
    "\n",
    "# 신경망 모델 생성\n",
    "model = Model(inputs, output, name='train')\n",
    "model.summary()"
   ]
  },
  {
   "cell_type": "markdown",
   "metadata": {},
   "source": [
    "### (5) 신경망에 대한 정보 확인하기"
   ]
  },
  {
   "cell_type": "markdown",
   "metadata": {},
   "source": [
    "keras에서는 `summary()`함수를 활용해 현재 생성된 모델에 대한 정보를 확인할 수 있습니다."
   ]
  },
  {
   "cell_type": "code",
   "execution_count": 14,
   "metadata": {
    "scrolled": true
   },
   "outputs": [
    {
     "name": "stdout",
     "output_type": "stream",
     "text": [
      "Model: \"train\"\n",
      "_________________________________________________________________\n",
      "Layer (type)                 Output Shape              Param #   \n",
      "=================================================================\n",
      "x (InputLayer)               [(None, 2)]               0         \n",
      "_________________________________________________________________\n",
      "hidden (Dense)               (None, 10)                30        \n",
      "_________________________________________________________________\n",
      "output (Dense)               (None, 1)                 11        \n",
      "=================================================================\n",
      "Total params: 41\n",
      "Trainable params: 41\n",
      "Non-trainable params: 0\n",
      "_________________________________________________________________\n"
     ]
    }
   ],
   "source": [
    "model.summary()"
   ]
  },
  {
   "cell_type": "markdown",
   "metadata": {},
   "source": [
    "### (6) 모델 사용하기"
   ]
  },
  {
   "cell_type": "markdown",
   "metadata": {},
   "source": [
    "keras에서는 `model.predict(input_sample)`를 통해 입력값(input_sample)`X`가 model을 통과했을 때의 예측값(ouput prediction)을 얻을 수 있습니다. 여기서 얻은 예측값은 아직 최선의 가중치를 찾지 않은 초기 가중치 값을 통해 얻은 값이므로 오차율은 높을 수 있습니다."
   ]
  },
  {
   "cell_type": "code",
   "execution_count": 26,
   "metadata": {
    "scrolled": true
   },
   "outputs": [
    {
     "data": {
      "text/plain": [
       "array([[0.49377936],\n",
       "       [0.45281193],\n",
       "       [0.47851723],\n",
       "       [0.4882324 ],\n",
       "       [0.49322692],\n",
       "       [0.45525783],\n",
       "       [0.49031642],\n",
       "       [0.47572947],\n",
       "       [0.49436378],\n",
       "       [0.473603  ],\n",
       "       [0.48544824],\n",
       "       [0.48409113],\n",
       "       [0.47965798],\n",
       "       [0.48031965],\n",
       "       [0.4876397 ],\n",
       "       [0.44597226],\n",
       "       [0.47531497],\n",
       "       [0.46777552],\n",
       "       [0.48555052],\n",
       "       [0.4800219 ],\n",
       "       [0.49208868],\n",
       "       [0.4860423 ],\n",
       "       [0.47755522],\n",
       "       [0.48263136],\n",
       "       [0.46455917],\n",
       "       [0.4697573 ],\n",
       "       [0.47870925],\n",
       "       [0.49364614],\n",
       "       [0.47588816],\n",
       "       [0.44467798],\n",
       "       [0.4806331 ],\n",
       "       [0.48792785],\n",
       "       [0.49275467],\n",
       "       [0.47355253],\n",
       "       [0.48976198],\n",
       "       [0.46033838],\n",
       "       [0.4858888 ],\n",
       "       [0.48093635],\n",
       "       [0.46831688],\n",
       "       [0.477105  ],\n",
       "       [0.47163087],\n",
       "       [0.4863549 ],\n",
       "       [0.49328196],\n",
       "       [0.48085263],\n",
       "       [0.48368496],\n",
       "       [0.46508667],\n",
       "       [0.48899037],\n",
       "       [0.49275026],\n",
       "       [0.46278676],\n",
       "       [0.47030088],\n",
       "       [0.4838378 ],\n",
       "       [0.48208484],\n",
       "       [0.48202577],\n",
       "       [0.48356193],\n",
       "       [0.47664246],\n",
       "       [0.43975842],\n",
       "       [0.48334995],\n",
       "       [0.47139242],\n",
       "       [0.47609758],\n",
       "       [0.47219467],\n",
       "       [0.4551753 ],\n",
       "       [0.46780947],\n",
       "       [0.48695418],\n",
       "       [0.47241187],\n",
       "       [0.48266235],\n",
       "       [0.48264426],\n",
       "       [0.45213494],\n",
       "       [0.4825871 ],\n",
       "       [0.48245132],\n",
       "       [0.4893887 ],\n",
       "       [0.47110575],\n",
       "       [0.4818001 ],\n",
       "       [0.4943109 ],\n",
       "       [0.4903295 ],\n",
       "       [0.47364783],\n",
       "       [0.45263937],\n",
       "       [0.4879241 ],\n",
       "       [0.4811626 ],\n",
       "       [0.4757527 ],\n",
       "       [0.48424974],\n",
       "       [0.49481252],\n",
       "       [0.493725  ],\n",
       "       [0.46807986],\n",
       "       [0.4932474 ],\n",
       "       [0.48314434],\n",
       "       [0.47937906],\n",
       "       [0.4897247 ],\n",
       "       [0.48305002],\n",
       "       [0.4817442 ],\n",
       "       [0.47889695],\n",
       "       [0.4812622 ],\n",
       "       [0.48748258],\n",
       "       [0.48313114],\n",
       "       [0.49419078],\n",
       "       [0.48997745],\n",
       "       [0.48801064],\n",
       "       [0.49099854],\n",
       "       [0.4718063 ],\n",
       "       [0.49061316],\n",
       "       [0.4929795 ]], dtype=float32)"
      ]
     },
     "execution_count": 26,
     "metadata": {},
     "output_type": "execute_result"
    }
   ],
   "source": [
    "model.predict(X) # 순전파"
   ]
  },
  {
   "cell_type": "code",
   "execution_count": 28,
   "metadata": {},
   "outputs": [
    {
     "data": {
      "text/plain": [
       "(100, 1)"
      ]
     },
     "execution_count": 28,
     "metadata": {},
     "output_type": "execute_result"
    }
   ],
   "source": [
    "model.predict(X).shape"
   ]
  },
  {
   "cell_type": "markdown",
   "metadata": {},
   "source": [
    "# \\[ 3. Numpy를 이용해 순전파 과정 진행하기 \\]\n",
    "\n",
    "Keras로 구현한 순전파 네트워크가 잘 돌아가는지, Keras에서 얻은 가중치 값을 가져와 Numpy 코드로 직접 수식을 구현하여 단계별로 얻어지는 값을 확인하고, 예측 결과 값을 비교해보겠습니다. 앞서 사용한 암환자 데이터셋을 이용해보겠습니다."
   ]
  },
  {
   "cell_type": "markdown",
   "metadata": {},
   "source": [
    "### (1) 가중치 가져오기"
   ]
  },
  {
   "cell_type": "markdown",
   "metadata": {},
   "source": [
    "keras에서는 `model.get_layer('layer_name').get_weights()`을 통해 모델 내 원하는 층의 가중치 값을 가져올 수 있습니다. 이는 class 또는 instance의 이동으로 다른 구조에서 가중치 값을 간단하게 공유할 수 있다는 점은 keras의 장점 중 하나입니다."
   ]
  },
  {
   "cell_type": "code",
   "execution_count": 32,
   "metadata": {
    "scrolled": true
   },
   "outputs": [
    {
     "name": "stdout",
     "output_type": "stream",
     "text": [
      "W1 >>>\n"
     ]
    },
    {
     "data": {
      "text/plain": [
       "array([[-0.046, -0.277,  0.33 ,  0.506, -0.105,  0.473, -0.158,  0.404,\n",
       "        -0.204, -0.455],\n",
       "       [ 0.387,  0.52 ,  0.452,  0.5  ,  0.633, -0.344, -0.612,  0.356,\n",
       "         0.188, -0.194]], dtype=float32)"
      ]
     },
     "metadata": {},
     "output_type": "display_data"
    },
    {
     "name": "stdout",
     "output_type": "stream",
     "text": [
      "B1 >>>\n"
     ]
    },
    {
     "data": {
      "text/plain": [
       "array([0., 0., 0., 0., 0., 0., 0., 0., 0., 0.], dtype=float32)"
      ]
     },
     "metadata": {},
     "output_type": "display_data"
    },
    {
     "name": "stdout",
     "output_type": "stream",
     "text": [
      "W2 >>>\n"
     ]
    },
    {
     "data": {
      "text/plain": [
       "array([[-0.34 ],\n",
       "       [-0.001],\n",
       "       [ 0.382],\n",
       "       [-0.297],\n",
       "       [ 0.27 ],\n",
       "       [-0.443],\n",
       "       [ 0.54 ],\n",
       "       [-0.169],\n",
       "       [-0.554],\n",
       "       [ 0.005]], dtype=float32)"
      ]
     },
     "metadata": {},
     "output_type": "display_data"
    },
    {
     "name": "stdout",
     "output_type": "stream",
     "text": [
      "B2 >>>\n"
     ]
    },
    {
     "data": {
      "text/plain": [
       "array([0.], dtype=float32)"
      ]
     },
     "metadata": {},
     "output_type": "display_data"
    }
   ],
   "source": [
    "W1, B1 = model.get_layer('hidden').get_weights()\n",
    "W2, B2 = model.get_layer('output').get_weights()\n",
    "\n",
    "np.set_printoptions(3)\n",
    "print(\"W1 >>>\")\n",
    "display(W1)\n",
    "print(\"B1 >>>\")\n",
    "display(B1)\n",
    "print(\"W2 >>>\")\n",
    "display(W2)\n",
    "print(\"B2 >>>\")\n",
    "display(B2)"
   ]
  },
  {
   "cell_type": "markdown",
   "metadata": {},
   "source": [
    "### (2) 순전파 수식 구현\n",
    "첫번째 층을 통과하는 과정을 살펴봅시다.\n",
    "\n",
    "<img src=\"https://i.imgur.com/o1SgBJZ.png\" width=\"600\" height=\"450\"/><br>"
   ]
  },
  {
   "cell_type": "markdown",
   "metadata": {},
   "source": [
    "위에 도식에서 입력 데이터 X가 가중치와 곱해진 결과값을 얻는 과정을 수식으로 나타내면 다음과 같습니다.\n",
    "\n",
    "$\n",
    "Z_1 = X \\cdot W_1 + B_1\n",
    "$\n",
    "\n",
    "이를 numpy 식으로 구현하면 아래와 같이 됩니다. "
   ]
  },
  {
   "cell_type": "markdown",
   "metadata": {},
   "source": [
    "두가지 연산\n",
    "* 수확해지는 로짓 연산\n",
    "* 활성화 함수 연산"
   ]
  },
  {
   "cell_type": "code",
   "execution_count": 41,
   "metadata": {},
   "outputs": [
    {
     "data": {
      "text/plain": [
       "(100, 10)"
      ]
     },
     "execution_count": 41,
     "metadata": {},
     "output_type": "execute_result"
    }
   ],
   "source": [
    "X = cancer_df[['age','tumor_size']].values\n",
    "hidden1 = np.dot(X, W1) + B1\n",
    "hidden1.shape # (100, 10)\n",
    "# hidden1"
   ]
  },
  {
   "cell_type": "markdown",
   "metadata": {},
   "source": [
    "### (3) 활성화 함수 적용\n",
    "이렇게 입력값에 가중치를 곱해 얻은 $Z_1$, 즉`hidden1`에 `relu`활성화 함수를 적용해 보겠습니다.\n",
    "\n",
    "<img src=\"https://i.imgur.com/QVfBn7d.png\" width=\"600\" height=\"450\"/><br>"
   ]
  },
  {
   "cell_type": "markdown",
   "metadata": {},
   "source": [
    "$a_1 = RELU(z_1)$\n",
    "\n",
    "\n",
    "이를 numpy 식으로 구현하면 아래와 같이 됩니다. "
   ]
  },
  {
   "cell_type": "code",
   "execution_count": 46,
   "metadata": {},
   "outputs": [
    {
     "data": {
      "text/plain": [
       "[<matplotlib.lines.Line2D at 0x2b929ab6198>]"
      ]
     },
     "execution_count": 46,
     "metadata": {},
     "output_type": "execute_result"
    },
    {
     "data": {
      "image/png": "[encoded data removed]",
      "text/plain": [
       "<Figure size 432x288 with 1 Axes>"
      ]
     },
     "metadata": {
      "needs_background": "light"
     },
     "output_type": "display_data"
    }
   ],
   "source": [
    "import numpy as np\n",
    "def relu(x):\n",
    "    if x>= 0:\n",
    "        return x\n",
    "    else:\n",
    "        return 0\n",
    "xs = np.arange(-10,10,1)\n",
    "plt.plot(xs,[relu(x) for x in xs])"
   ]
  },
  {
   "cell_type": "code",
   "execution_count": 47,
   "metadata": {},
   "outputs": [
    {
     "data": {
      "text/plain": [
       "[<matplotlib.lines.Line2D at 0x2b929a3a470>]"
      ]
     },
     "execution_count": 47,
     "metadata": {},
     "output_type": "execute_result"
    },
    {
     "data": {
      "image/png": "[encoded data removed]",
      "text/plain": [
       "<Figure size 432x288 with 1 Axes>"
      ]
     },
     "metadata": {
      "needs_background": "light"
     },
     "output_type": "display_data"
    }
   ],
   "source": [
    "def relu(x):\n",
    "    return np.maximum(x,0)\n",
    "\n",
    "xs = np.arange(-10,10,1)\n",
    "plt.plot(xs,[relu(x) for x in xs])"
   ]
  },
  {
   "cell_type": "code",
   "execution_count": 50,
   "metadata": {},
   "outputs": [
    {
     "data": {
      "text/plain": [
       "array([[1.094e+00, 1.005e+00, 2.112e+00, 2.644e+00, 1.728e+00, 0.000e+00,\n",
       "        0.000e+00, 1.976e+00, 1.377e-01, 0.000e+00],\n",
       "       [1.655e+00, 5.099e-01, 5.007e+00, 6.671e+00, 2.477e+00, 1.984e+00,\n",
       "        0.000e+00, 5.095e+00, 0.000e+00, 0.000e+00],\n",
       "       [2.020e+00, 1.591e+00, 4.377e+00, 5.584e+00, 3.155e+00, 4.715e-01,\n",
       "        0.000e+00, 4.203e+00, 2.909e-02, 0.000e+00],\n",
       "       [1.496e+00, 1.275e+00, 3.067e+00, 3.879e+00, 2.349e+00, 1.535e-01,\n",
       "        0.000e+00, 2.910e+00, 1.039e-01, 0.000e+00],\n",
       "       [1.247e+00, 1.171e+00, 2.367e+00, 2.953e+00, 1.974e+00, 0.000e+00,\n",
       "        0.000e+00, 2.204e+00, 1.772e-01, 0.000e+00],\n",
       "       [5.845e-01, 0.000e+00, 3.153e+00, 4.398e+00, 7.705e-01, 2.258e+00,\n",
       "        0.000e+00, 3.410e+00, 0.000e+00, 0.000e+00],\n",
       "       [9.895e-01, 7.775e-01, 2.148e+00, 2.741e+00, 1.545e+00, 2.350e-01,\n",
       "        0.000e+00, 2.063e+00, 1.257e-02, 0.000e+00],\n",
       "       [2.298e+00, 1.822e+00, 4.961e+00, 6.325e+00, 3.592e+00, 5.142e-01,\n",
       "        0.000e+00, 4.759e+00, 4.252e-02, 0.000e+00],\n",
       "       [1.134e+00, 1.319e+00, 1.694e+00, 2.010e+00, 1.829e+00, 0.000e+00,\n",
       "        0.000e+00, 1.472e+00, 3.773e-01, 0.000e+00],\n",
       "       [9.918e-01, 3.379e-01, 2.943e+00, 3.913e+00, 1.489e+00, 1.124e+00,\n",
       "        0.000e+00, 2.987e+00, 0.000e+00, 0.000e+00],\n",
       "       [1.281e+00, 9.677e-01, 2.851e+00, 3.653e+00, 1.996e+00, 3.831e-01,\n",
       "        0.000e+00, 2.753e+00, 0.000e+00, 0.000e+00],\n",
       "       [2.755e+00, 2.699e+00, 5.023e+00, 6.221e+00, 4.375e+00, 0.000e+00,\n",
       "        0.000e+00, 4.631e+00, 4.876e-01, 0.000e+00],\n",
       "       [2.129e+00, 1.741e+00, 4.501e+00, 5.720e+00, 3.335e+00, 3.691e-01,\n",
       "        0.000e+00, 4.298e+00, 8.454e-02, 0.000e+00],\n",
       "       [3.370e+00, 3.718e+00, 5.401e+00, 6.512e+00, 5.408e+00, 0.000e+00,\n",
       "        0.000e+00, 4.800e+00, 9.490e-01, 0.000e+00],\n",
       "       [2.219e+00, 2.838e+00, 2.856e+00, 3.255e+00, 3.613e+00, 0.000e+00,\n",
       "        0.000e+00, 2.346e+00, 9.557e-01, 0.000e+00],\n",
       "       [4.048e-01, 0.000e+00, 3.311e+00, 4.708e+00, 4.483e-01, 2.831e+00,\n",
       "        0.000e+00, 3.672e+00, 0.000e+00, 0.000e+00],\n",
       "       [2.000e+00, 1.485e+00, 4.497e+00, 5.770e+00, 3.112e+00, 6.496e-01,\n",
       "        0.000e+00, 4.351e+00, 0.000e+00, 0.000e+00],\n",
       "       [2.932e+00, 2.303e+00, 6.365e+00, 8.123e+00, 4.578e+00, 6.978e-01,\n",
       "        0.000e+00, 6.114e+00, 3.657e-02, 0.000e+00],\n",
       "       [5.044e-01, 1.217e-01, 1.587e+00, 2.123e+00, 7.506e-01, 6.727e-01,\n",
       "        0.000e+00, 1.623e+00, 0.000e+00, 0.000e+00],\n",
       "       [1.429e+00, 9.854e-01, 3.348e+00, 4.321e+00, 2.213e+00, 6.159e-01,\n",
       "        0.000e+00, 3.265e+00, 0.000e+00, 0.000e+00],\n",
       "       [1.178e+00, 1.041e+00, 2.352e+00, 2.961e+00, 1.856e+00, 4.875e-02,\n",
       "        0.000e+00, 2.218e+00, 1.122e-01, 0.000e+00],\n",
       "       [1.223e+00, 9.192e-01, 2.728e+00, 3.496e+00, 1.904e+00, 3.738e-01,\n",
       "        0.000e+00, 2.635e+00, 0.000e+00, 0.000e+00],\n",
       "       [3.112e+00, 2.811e+00, 6.099e+00, 7.654e+00, 4.909e+00, 1.971e-03,\n",
       "        0.000e+00, 5.726e+00, 3.497e-01, 0.000e+00],\n",
       "       [3.009e+00, 3.506e+00, 4.488e+00, 5.321e+00, 4.854e+00, 0.000e+00,\n",
       "        0.000e+00, 3.897e+00, 1.005e+00, 0.000e+00],\n",
       "       [1.839e+00, 1.024e+00, 4.746e+00, 6.207e+00, 2.815e+00, 1.285e+00,\n",
       "        0.000e+00, 4.712e+00, 0.000e+00, 0.000e+00],\n",
       "       [6.025e-02, 0.000e+00, 1.673e+00, 2.441e+00, 0.000e+00, 1.748e+00,\n",
       "        0.000e+00, 1.919e+00, 0.000e+00, 0.000e+00],\n",
       "       [1.117e+00, 6.095e-01, 2.904e+00, 3.801e+00, 1.708e+00, 8.045e-01,\n",
       "        0.000e+00, 2.886e+00, 0.000e+00, 0.000e+00],\n",
       "       [1.241e+00, 1.269e+00, 2.168e+00, 2.663e+00, 1.978e+00, 0.000e+00,\n",
       "        0.000e+00, 1.976e+00, 2.648e-01, 0.000e+00],\n",
       "       [4.071e+00, 4.319e+00, 6.830e+00, 8.318e+00, 6.509e+00, 0.000e+00,\n",
       "        0.000e+00, 6.154e+00, 1.001e+00, 0.000e+00],\n",
       "       [2.213e+00, 9.027e-01, 6.301e+00, 8.339e+00, 3.343e+00, 2.209e+00,\n",
       "        0.000e+00, 6.355e+00, 0.000e+00, 0.000e+00],\n",
       "       [1.658e+00, 1.252e+00, 3.690e+00, 4.727e+00, 2.582e+00, 4.964e-01,\n",
       "        0.000e+00, 3.563e+00, 0.000e+00, 0.000e+00],\n",
       "       [8.196e-01, 5.288e-01, 1.985e+00, 2.575e+00, 1.264e+00, 4.267e-01,\n",
       "        0.000e+00, 1.949e+00, 0.000e+00, 0.000e+00],\n",
       "       [8.345e-01, 6.726e-01, 1.781e+00, 2.267e+00, 1.306e+00, 1.642e-01,\n",
       "        0.000e+00, 1.705e+00, 2.490e-02, 0.000e+00],\n",
       "       [1.668e+00, 1.076e+00, 4.042e+00, 5.242e+00, 2.574e+00, 8.697e-01,\n",
       "        0.000e+00, 3.968e+00, 0.000e+00, 0.000e+00],\n",
       "       [6.943e-01, 4.404e-01, 1.696e+00, 2.201e+00, 1.070e+00, 3.767e-01,\n",
       "        0.000e+00, 1.667e+00, 0.000e+00, 0.000e+00],\n",
       "       [3.331e-01, 0.000e+00, 2.521e+00, 3.574e+00, 3.842e-01, 2.100e+00,\n",
       "        0.000e+00, 2.785e+00, 0.000e+00, 0.000e+00],\n",
       "       [2.472e+00, 2.476e+00, 4.410e+00, 5.438e+00, 3.933e+00, 0.000e+00,\n",
       "        0.000e+00, 4.042e+00, 4.837e-01, 0.000e+00],\n",
       "       [2.400e+00, 2.081e+00, 4.862e+00, 6.136e+00, 3.775e+00, 1.783e-01,\n",
       "        0.000e+00, 4.599e+00, 1.954e-01, 0.000e+00],\n",
       "       [2.945e+00, 2.332e+00, 6.361e+00, 8.112e+00, 4.602e+00, 6.638e-01,\n",
       "        0.000e+00, 6.103e+00, 5.242e-02, 0.000e+00],\n",
       "       [6.019e-01, 4.971e-03, 2.144e+00, 2.903e+00, 8.768e-01, 1.085e+00,\n",
       "        0.000e+00, 2.229e+00, 0.000e+00, 0.000e+00],\n",
       "       [2.871e-01, 0.000e+00, 1.913e+00, 2.698e+00, 3.508e-01, 1.519e+00,\n",
       "        0.000e+00, 2.099e+00, 0.000e+00, 0.000e+00],\n",
       "       [8.338e-01, 5.027e-01, 2.083e+00, 2.713e+00, 1.282e+00, 5.049e-01,\n",
       "        0.000e+00, 2.056e+00, 0.000e+00, 0.000e+00],\n",
       "       [1.299e+00, 1.332e+00, 2.264e+00, 2.779e+00, 2.071e+00, 0.000e+00,\n",
       "        0.000e+00, 2.062e+00, 2.799e-01, 0.000e+00],\n",
       "       [2.848e+00, 2.623e+00, 5.494e+00, 6.874e+00, 4.501e+00, 0.000e+00,\n",
       "        0.000e+00, 5.137e+00, 3.624e-01, 0.000e+00],\n",
       "       [2.835e+00, 3.162e+00, 4.480e+00, 5.385e+00, 4.554e+00, 0.000e+00,\n",
       "        0.000e+00, 3.964e+00, 8.279e-01, 0.000e+00],\n",
       "       [2.094e+00, 1.316e+00, 5.135e+00, 6.670e+00, 3.226e+00, 1.160e+00,\n",
       "        0.000e+00, 5.051e+00, 0.000e+00, 0.000e+00],\n",
       "       [1.979e+00, 1.984e+00, 3.529e+00, 4.351e+00, 3.149e+00, 0.000e+00,\n",
       "        0.000e+00, 3.234e+00, 3.885e-01, 0.000e+00],\n",
       "       [2.874e-01, 7.489e-02, 8.941e-01, 1.195e+00, 4.284e-01, 3.721e-01,\n",
       "        0.000e+00, 9.134e-01, 0.000e+00, 0.000e+00],\n",
       "       [1.245e+00, 3.273e-01, 3.866e+00, 5.166e+00, 1.856e+00, 1.605e+00,\n",
       "        0.000e+00, 3.949e+00, 0.000e+00, 0.000e+00],\n",
       "       [7.721e-01, 1.067e-02, 2.743e+00, 3.713e+00, 1.125e+00, 1.383e+00,\n",
       "        0.000e+00, 2.850e+00, 0.000e+00, 0.000e+00],\n",
       "       [1.259e+00, 9.004e-01, 2.891e+00, 3.721e+00, 1.954e+00, 4.774e-01,\n",
       "        0.000e+00, 2.809e+00, 0.000e+00, 0.000e+00],\n",
       "       [9.947e-01, 5.656e-01, 2.546e+00, 3.326e+00, 1.524e+00, 6.711e-01,\n",
       "        0.000e+00, 2.524e+00, 0.000e+00, 0.000e+00],\n",
       "       [2.313e-01, 0.000e+00, 1.335e+00, 1.869e+00, 2.982e-01, 9.912e-01,\n",
       "        0.000e+00, 1.450e+00, 0.000e+00, 0.000e+00],\n",
       "       [1.157e+00, 7.817e-01, 2.739e+00, 3.540e+00, 1.789e+00, 5.309e-01,\n",
       "        0.000e+00, 2.677e+00, 0.000e+00, 0.000e+00],\n",
       "       [8.633e-01, 2.780e-01, 2.591e+00, 3.448e+00, 1.294e+00, 1.011e+00,\n",
       "        0.000e+00, 2.633e+00, 0.000e+00, 0.000e+00],\n",
       "       [1.535e+00, 3.023e-02, 5.436e+00, 7.355e+00, 2.238e+00, 2.731e+00,\n",
       "        0.000e+00, 5.647e+00, 0.000e+00, 0.000e+00],\n",
       "       [2.885e+00, 3.132e+00, 4.713e+00, 5.707e+00, 4.623e+00, 0.000e+00,\n",
       "        0.000e+00, 4.213e+00, 7.697e-01, 0.000e+00],\n",
       "       [1.115e+00, 4.142e-01, 3.248e+00, 4.310e+00, 1.679e+00, 1.195e+00,\n",
       "        0.000e+00, 3.287e+00, 0.000e+00, 0.000e+00],\n",
       "       [2.616e+00, 2.179e+00, 5.459e+00, 6.923e+00, 4.102e+00, 3.738e-01,\n",
       "        0.000e+00, 5.198e+00, 1.374e-01, 0.000e+00],\n",
       "       [2.405e+00, 1.844e+00, 5.301e+00, 6.782e+00, 3.750e+00, 6.622e-01,\n",
       "        0.000e+00, 5.108e+00, 0.000e+00, 0.000e+00],\n",
       "       [1.148e+00, 1.982e-02, 4.072e+00, 5.511e+00, 1.674e+00, 2.049e+00,\n",
       "        0.000e+00, 4.231e+00, 0.000e+00, 0.000e+00],\n",
       "       [1.820e-01, 0.000e+00, 1.953e+00, 2.802e+00, 1.665e-01, 1.795e+00,\n",
       "        0.000e+00, 2.191e+00, 0.000e+00, 0.000e+00],\n",
       "       [1.304e+00, 1.032e+00, 2.817e+00, 3.592e+00, 2.037e+00, 2.945e-01,\n",
       "        0.000e+00, 2.702e+00, 2.294e-02, 0.000e+00],\n",
       "       [1.399e+00, 7.508e-01, 3.659e+00, 4.794e+00, 2.137e+00, 1.033e+00,\n",
       "        0.000e+00, 3.641e+00, 0.000e+00, 0.000e+00],\n",
       "       [8.811e-01, 4.568e-01, 2.334e+00, 3.063e+00, 1.344e+00, 6.835e-01,\n",
       "        0.000e+00, 2.328e+00, 0.000e+00, 0.000e+00],\n",
       "       [2.987e+00, 2.986e+00, 5.340e+00, 6.588e+00, 4.751e+00, 0.000e+00,\n",
       "        0.000e+00, 4.898e+00, 5.789e-01, 0.000e+00],\n",
       "       [2.153e+00, 1.036e+00, 5.846e+00, 7.694e+00, 3.273e+00, 1.831e+00,\n",
       "        0.000e+00, 5.853e+00, 0.000e+00, 0.000e+00],\n",
       "       [2.483e+00, 2.247e+00, 4.858e+00, 6.094e+00, 3.917e+00, 0.000e+00,\n",
       "        0.000e+00, 4.558e+00, 2.828e-01, 0.000e+00],\n",
       "       [1.227e+00, 8.287e-01, 2.905e+00, 3.755e+00, 1.898e+00, 5.634e-01,\n",
       "        0.000e+00, 2.839e+00, 0.000e+00, 0.000e+00],\n",
       "       [1.916e+00, 1.914e+00, 3.428e+00, 4.230e+00, 3.047e+00, 0.000e+00,\n",
       "        0.000e+00, 3.145e+00, 3.702e-01, 0.000e+00],\n",
       "       [2.491e+00, 1.909e+00, 5.492e+00, 7.026e+00, 3.883e+00, 6.877e-01,\n",
       "        0.000e+00, 5.292e+00, 0.000e+00, 0.000e+00],\n",
       "       [1.270e+00, 8.588e-01, 3.006e+00, 3.885e+00, 1.965e+00, 5.816e-01,\n",
       "        0.000e+00, 2.937e+00, 0.000e+00, 0.000e+00],\n",
       "       [8.002e-01, 6.763e-01, 1.652e+00, 2.091e+00, 1.256e+00, 9.449e-02,\n",
       "        0.000e+00, 1.570e+00, 5.039e-02, 0.000e+00],\n",
       "       [1.776e+00, 2.007e+00, 2.760e+00, 3.304e+00, 2.856e+00, 0.000e+00,\n",
       "        0.000e+00, 2.429e+00, 5.410e-01, 0.000e+00],\n",
       "       [2.454e+00, 1.936e+00, 5.311e+00, 6.775e+00, 3.833e+00, 5.661e-01,\n",
       "        0.000e+00, 5.099e+00, 3.816e-02, 0.000e+00],\n",
       "       [1.692e+00, 5.461e-01, 5.076e+00, 6.756e+00, 2.537e+00, 1.979e+00,\n",
       "        0.000e+00, 5.159e+00, 0.000e+00, 0.000e+00],\n",
       "       [1.819e+00, 1.654e+00, 3.547e+00, 4.447e+00, 2.872e+00, 0.000e+00,\n",
       "        0.000e+00, 3.326e+00, 2.133e-01, 0.000e+00],\n",
       "       [3.218e+00, 3.105e+00, 5.953e+00, 7.392e+00, 5.104e+00, 0.000e+00,\n",
       "        0.000e+00, 5.509e+00, 5.293e-01, 0.000e+00],\n",
       "       [5.604e-01, 0.000e+00, 2.141e+00, 2.916e+00, 8.053e-01, 1.173e+00,\n",
       "        0.000e+00, 2.244e+00, 0.000e+00, 0.000e+00],\n",
       "       [1.275e+00, 9.287e-01, 2.897e+00, 3.724e+00, 1.981e+00, 4.494e-01,\n",
       "        0.000e+00, 2.809e+00, 0.000e+00, 0.000e+00],\n",
       "       [1.029e+00, 9.677e-01, 1.947e+00, 2.428e+00, 1.628e+00, 0.000e+00,\n",
       "        0.000e+00, 1.812e+00, 1.482e-01, 0.000e+00],\n",
       "       [1.235e+00, 1.415e+00, 1.885e+00, 2.248e+00, 1.989e+00, 0.000e+00,\n",
       "        0.000e+00, 1.650e+00, 3.920e-01, 0.000e+00],\n",
       "       [1.027e+00, 2.305e-01, 3.263e+00, 4.369e+00, 1.526e+00, 1.405e+00,\n",
       "        0.000e+00, 3.343e+00, 0.000e+00, 0.000e+00],\n",
       "       [1.146e+00, 1.048e+00, 2.224e+00, 2.786e+00, 1.810e+00, 0.000e+00,\n",
       "        0.000e+00, 2.083e+00, 1.396e-01, 0.000e+00],\n",
       "       [2.326e+00, 2.078e+00, 4.598e+00, 5.779e+00, 3.666e+00, 4.678e-02,\n",
       "        0.000e+00, 4.326e+00, 2.423e-01, 0.000e+00],\n",
       "       [6.705e-01, 1.399e-01, 2.148e+00, 2.879e+00, 9.948e-01, 9.381e-01,\n",
       "        0.000e+00, 2.203e+00, 0.000e+00, 0.000e+00],\n",
       "       [1.865e+00, 1.933e+00, 3.213e+00, 3.935e+00, 2.976e+00, 0.000e+00,\n",
       "        0.000e+00, 2.917e+00, 4.193e-01, 0.000e+00],\n",
       "       [6.881e-01, 2.561e-01, 2.003e+00, 2.657e+00, 1.036e+00, 7.362e-01,\n",
       "        0.000e+00, 2.027e+00, 0.000e+00, 0.000e+00],\n",
       "       [5.006e-01, 1.703e-02, 1.760e+00, 2.381e+00, 7.310e-01, 8.765e-01,\n",
       "        0.000e+00, 1.827e+00, 0.000e+00, 0.000e+00],\n",
       "       [1.112e+00, 6.093e-01, 2.887e+00, 3.778e+00, 1.701e+00, 7.963e-01,\n",
       "        0.000e+00, 2.869e+00, 0.000e+00, 0.000e+00],\n",
       "       [1.320e+00, 8.990e-01, 3.112e+00, 4.021e+00, 2.043e+00, 5.913e-01,\n",
       "        0.000e+00, 3.039e+00, 0.000e+00, 0.000e+00],\n",
       "       [1.380e+00, 1.130e+00, 2.916e+00, 3.705e+00, 2.162e+00, 2.372e-01,\n",
       "        0.000e+00, 2.784e+00, 5.570e-02, 0.000e+00],\n",
       "       [7.562e-01, 3.327e-01, 2.110e+00, 2.785e+00, 1.146e+00, 7.060e-01,\n",
       "        0.000e+00, 2.121e+00, 0.000e+00, 0.000e+00],\n",
       "       [8.954e-01, 7.805e-01, 1.806e+00, 2.277e+00, 1.409e+00, 5.780e-02,\n",
       "        0.000e+00, 1.707e+00, 7.654e-02, 0.000e+00],\n",
       "       [1.844e+00, 2.374e+00, 2.346e+00, 2.665e+00, 3.005e+00, 0.000e+00,\n",
       "        0.000e+00, 1.918e+00, 8.073e-01, 0.000e+00],\n",
       "       [2.142e+00, 2.330e+00, 3.492e+00, 4.227e+00, 3.433e+00, 0.000e+00,\n",
       "        0.000e+00, 3.120e+00, 5.751e-01, 0.000e+00],\n",
       "       [2.988e-01, 4.114e-02, 9.954e-01, 1.339e+00, 4.405e-01, 4.608e-01,\n",
       "        0.000e+00, 1.026e+00, 0.000e+00, 0.000e+00],\n",
       "       [1.814e+00, 1.189e+00, 4.362e+00, 5.651e+00, 2.802e+00, 9.073e-01,\n",
       "        0.000e+00, 4.276e+00, 0.000e+00, 0.000e+00],\n",
       "       [1.241e+00, 1.060e+00, 2.542e+00, 3.213e+00, 1.950e+00, 1.236e-01,\n",
       "        0.000e+00, 2.410e+00, 8.777e-02, 0.000e+00],\n",
       "       [1.196e+00, 1.099e+00, 2.313e+00, 2.896e+00, 1.890e+00, 0.000e+00,\n",
       "        0.000e+00, 2.165e+00, 1.494e-01, 0.000e+00]])"
      ]
     },
     "execution_count": 50,
     "metadata": {},
     "output_type": "execute_result"
    }
   ],
   "source": [
    "hidden1_np_output = np.maximum(hidden1,0)\n",
    "# hidden1_np_output\n",
    "hidden1_np_output = relu(hidden1)\n",
    "hidden1_np_output"
   ]
  },
  {
   "cell_type": "markdown",
   "metadata": {},
   "source": [
    "### (4) 순전파 수식 구현\n",
    "두번째 layer를 통과하는 과정입니다.\n",
    "\n",
    "<img src=\"https://i.imgur.com/WKOjOg6.png\" width=\"600\" height=\"450\"/><br>"
   ]
  },
  {
   "cell_type": "markdown",
   "metadata": {},
   "source": [
    "첫 번째 층을 통과한 결과 값을 입력 값으로 받아 가중치 $W_2$와 곱하고, 편향 $b_2$를 더합니다. "
   ]
  },
  {
   "cell_type": "code",
   "execution_count": 53,
   "metadata": {
    "scrolled": true
   },
   "outputs": [],
   "source": [
    "output_z = np.dot(hidden1_np_output, W2) + B2\n",
    "# output_z"
   ]
  },
  {
   "cell_type": "markdown",
   "metadata": {},
   "source": [
    "### (5) 활성화 함수 적용\n",
    "최종적으로 두 번째 층의 결과값을 내기 위해 `output_z`에 `sigmoid`활성화 함수를 적용해 보겠습니다.\n",
    "<img src=\"https://i.imgur.com/9AceY76.png\" width=\"600\" height=\"450\"/><br>"
   ]
  },
  {
   "cell_type": "code",
   "execution_count": 54,
   "metadata": {
    "scrolled": false
   },
   "outputs": [
    {
     "data": {
      "text/plain": [
       "array([[0.427],\n",
       "       [0.154],\n",
       "       [0.32 ],\n",
       "       [0.384],\n",
       "       [0.417],\n",
       "       [0.159],\n",
       "       [0.408],\n",
       "       [0.299],\n",
       "       [0.426],\n",
       "       [0.274],\n",
       "       [0.371],\n",
       "       [0.324],\n",
       "       [0.323],\n",
       "       [0.29 ],\n",
       "       [0.358],\n",
       "       [0.117],\n",
       "       [0.298],\n",
       "       [0.249],\n",
       "       [0.362],\n",
       "       [0.328],\n",
       "       [0.416],\n",
       "       [0.376],\n",
       "       [0.302],\n",
       "       [0.311],\n",
       "       [0.221],\n",
       "       [0.231],\n",
       "       [0.314],\n",
       "       [0.418],\n",
       "       [0.253],\n",
       "       [0.122],\n",
       "       [0.336],\n",
       "       [0.387],\n",
       "       [0.426],\n",
       "       [0.281],\n",
       "       [0.401],\n",
       "       [0.181],\n",
       "       [0.341],\n",
       "       [0.326],\n",
       "       [0.251],\n",
       "       [0.296],\n",
       "       [0.25 ],\n",
       "       [0.373],\n",
       "       [0.414],\n",
       "       [0.318],\n",
       "       [0.32 ],\n",
       "       [0.227],\n",
       "       [0.371],\n",
       "       [0.422],\n",
       "       [0.205],\n",
       "       [0.249],\n",
       "       [0.357],\n",
       "       [0.34 ],\n",
       "       [0.326],\n",
       "       [0.354],\n",
       "       [0.295],\n",
       "       [0.101],\n",
       "       [0.317],\n",
       "       [0.26 ],\n",
       "       [0.295],\n",
       "       [0.279],\n",
       "       [0.162],\n",
       "       [0.22 ],\n",
       "       [0.381],\n",
       "       [0.27 ],\n",
       "       [0.343],\n",
       "       [0.311],\n",
       "       [0.155],\n",
       "       [0.339],\n",
       "       [0.346],\n",
       "       [0.375],\n",
       "       [0.272],\n",
       "       [0.341],\n",
       "       [0.436],\n",
       "       [0.385],\n",
       "       [0.286],\n",
       "       [0.154],\n",
       "       [0.38 ],\n",
       "       [0.297],\n",
       "       [0.285],\n",
       "       [0.361],\n",
       "       [0.432],\n",
       "       [0.419],\n",
       "       [0.236],\n",
       "       [0.424],\n",
       "       [0.344],\n",
       "       [0.314],\n",
       "       [0.378],\n",
       "       [0.344],\n",
       "       [0.331],\n",
       "       [0.315],\n",
       "       [0.337],\n",
       "       [0.383],\n",
       "       [0.345],\n",
       "       [0.434],\n",
       "       [0.381],\n",
       "       [0.361],\n",
       "       [0.407],\n",
       "       [0.27 ],\n",
       "       [0.404],\n",
       "       [0.42 ]])"
      ]
     },
     "execution_count": 54,
     "metadata": {},
     "output_type": "execute_result"
    }
   ],
   "source": [
    "np_output = 1/(1+np.exp(-output_z))\n",
    "np_output"
   ]
  },
  {
   "cell_type": "markdown",
   "metadata": {},
   "source": [
    "### (6) keras 결과와 비교하기"
   ]
  },
  {
   "cell_type": "markdown",
   "metadata": {},
   "source": [
    "numpy에서 제공하는 testing 모듈을 통해 keras와 numpy를 이용해 만든 각각의 결과를 비교해보도록 하겠습니다. 아래 코드를 동작했을 때 아무 문제없이 작동하면 두 결과가 거의 일치하는 것이고, 그렇지 않다면 오류 메시지를 반환할 것입니다."
   ]
  },
  {
   "cell_type": "code",
   "execution_count": 55,
   "metadata": {},
   "outputs": [],
   "source": [
    "keras_output = model.predict(cancer_df[['age','tumor_size']])\n",
    "\n",
    "# 아무값이 뜨지않으면 같다는 것을 의미한다. \n",
    "np.testing.assert_array_almost_equal(np_output, keras_output)"
   ]
  },
  {
   "cell_type": "markdown",
   "metadata": {},
   "source": [
    "#  \n",
    "\n",
    "---\n",
    "\n",
    "    Copyright(c) 2019 by Public AI. All rights reserved.\n",
    "    Writen by PAI, SangJae Kang ( rocketgrowthsj@publicai.co.kr )  last updated on 2019/09/16\n",
    "\n",
    "\n",
    "---"
   ]
  }
 ],
 "metadata": {
  "kernelspec": {
   "display_name": "Python 3",
   "language": "python",
   "name": "python3"
  },
  "language_info": {
   "codemirror_mode": {
    "name": "ipython",
    "version": 3
   },
   "file_extension": ".py",
   "mimetype": "text/x-python",
   "name": "python",
   "nbconvert_exporter": "python",
   "pygments_lexer": "ipython3",
   "version": "3.6.10"
  },
  "toc": {
   "base_numbering": 1,
   "nav_menu": {},
   "number_sections": false,
   "sideBar": true,
   "skip_h1_title": false,
   "title_cell": "Table of Contents",
   "title_sidebar": "Contents",
   "toc_cell": false,
   "toc_position": {},
   "toc_section_display": true,
   "toc_window_display": false
  },
  "varInspector": {
   "cols": {
    "lenName": 16,
    "lenType": 16,
    "lenVar": 40
   },
   "kernels_config": {
    "python": {
     "delete_cmd_postfix": "",
     "delete_cmd_prefix": "del ",
     "library": "var_list.py",
     "varRefreshCmd": "print(var_dic_list())"
    },
    "r": {
     "delete_cmd_postfix": ") ",
     "delete_cmd_prefix": "rm(",
     "library": "var_list.r",
     "varRefreshCmd": "cat(var_dic_list()) "
    }
   },
   "types_to_exclude": [
    "module",
    "function",
    "builtin_function_or_method",
    "instance",
    "_Feature"
   ],
   "window_display": false
  }
 },
 "nbformat": 4,
 "nbformat_minor": 4
}
