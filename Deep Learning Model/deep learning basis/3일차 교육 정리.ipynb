{
 "cells": [
  {
   "cell_type": "code",
   "execution_count": 31,
   "metadata": {},
   "outputs": [],
   "source": [
    "%matplotlib inline\n",
    "\n",
    "import os\n",
    "\n",
    "import pandas as pd\n",
    "import numpy as np\n",
    "import keras\n",
    "import tensorflow as tf\n",
    "\n",
    "import matplotlib.pyplot as plt\n",
    "\n",
    "from tensorflow.keras.layers import Input,Dense, Concatenate\n",
    "from tensorflow.keras.models import Model\n",
    "from tensorflow.keras import backend as K\n",
    "from tensorflow.keras.optimizers import SGD, RMSprop, Adagrad, Adam\n",
    "from tensorflow.keras.losses import MeanSquaredError, CategoricalCrossentropy"
   ]
  },
  {
   "cell_type": "code",
   "execution_count": 4,
   "metadata": {},
   "outputs": [
    {
     "name": "stdout",
     "output_type": "stream",
     "text": [
      "Model: \"model\"\n",
      "_________________________________________________________________\n",
      "Layer (type)                 Output Shape              Param #   \n",
      "=================================================================\n",
      "inputs (InputLayer)          [(None, 1)]               0         \n",
      "_________________________________________________________________\n",
      "output (Dense)               (None, 1)                 2         \n",
      "=================================================================\n",
      "Total params: 2\n",
      "Trainable params: 2\n",
      "Non-trainable params: 0\n",
      "_________________________________________________________________\n"
     ]
    }
   ],
   "source": [
    "##### 선형회귀 - 𝑦=𝑤_1𝑥+𝑤_0\n",
    "\n",
    "# 1. 입력층 구성\n",
    "inputs = Input(shape=(1,), name='inputs')\n",
    "\n",
    "# 2. 출력층 구성\n",
    "dense_layer = Dense(units=1, name='output')\n",
    "\n",
    "# 3. 입력층과 출력층 연결\n",
    "output = dense_layer(inputs)\n",
    "\n",
    "# 4. 모델로 구성\n",
    "model = Model(inputs, output, name='model')\n",
    "model.summary()"
   ]
  },
  {
   "cell_type": "code",
   "execution_count": 7,
   "metadata": {},
   "outputs": [
    {
     "name": "stdout",
     "output_type": "stream",
     "text": [
      "Model: \"model\"\n",
      "_________________________________________________________________\n",
      "Layer (type)                 Output Shape              Param #   \n",
      "=================================================================\n",
      "inputs (InputLayer)          [(None, 3)]               0         \n",
      "_________________________________________________________________\n",
      "output (Dense)               (None, 1)                 3         \n",
      "=================================================================\n",
      "Total params: 3\n",
      "Trainable params: 3\n",
      "Non-trainable params: 0\n",
      "_________________________________________________________________\n"
     ]
    }
   ],
   "source": [
    "#### 선형회귀 - y=w_0+w_1x_1+w_2x_2+w_3x_3\n",
    "\n",
    "# 1. 입력층 구성\n",
    "inputs = Input(shape=(3,), name='inputs')\n",
    "\n",
    "# 2. 출력층 구성\n",
    "dense_layer = Dense(units=1, use_bias=False, name='output') # w_0을 없애는 것\n",
    "\n",
    "# 3. 입력층과 출력층 연결\n",
    "output = dense_layer(inputs)\n",
    "\n",
    "# 4. 모델로 구성\n",
    "model = Model(inputs, output, name='model')\n",
    "model.summary()"
   ]
  },
  {
   "cell_type": "code",
   "execution_count": 9,
   "metadata": {},
   "outputs": [
    {
     "name": "stdout",
     "output_type": "stream",
     "text": [
      "Model: \"model\"\n",
      "_________________________________________________________________\n",
      "Layer (type)                 Output Shape              Param #   \n",
      "=================================================================\n",
      "inputs (InputLayer)          [(None, 3)]               0         \n",
      "_________________________________________________________________\n",
      "output (Dense)               (None, 1)                 4         \n",
      "=================================================================\n",
      "Total params: 4\n",
      "Trainable params: 4\n",
      "Non-trainable params: 0\n",
      "_________________________________________________________________\n"
     ]
    }
   ],
   "source": [
    "#### 시그모이드 함수 / 0~1의 확률값 / 입력값 3개, 출력값 2개\n",
    "\n",
    "# 1. 입력층 구성\n",
    "inputs = Input(shape=(3,), name='inputs')\n",
    "\n",
    "# 2. 출력층 구성\n",
    "dense_layer = Dense(units=1, activation='sigmoid', name='output') # 활성화 함수 : activation\n",
    "# 3. 입력층과 출력층 연결\n",
    "output = dense_layer(inputs)\n",
    "\n",
    "# 4. 모델로 구성\n",
    "model = Model(inputs, output, name='model')\n",
    "model.summary()"
   ]
  },
  {
   "cell_type": "code",
   "execution_count": 12,
   "metadata": {},
   "outputs": [
    {
     "name": "stdout",
     "output_type": "stream",
     "text": [
      "Model: \"model\"\n",
      "_________________________________________________________________\n",
      "Layer (type)                 Output Shape              Param #   \n",
      "=================================================================\n",
      "inputs (InputLayer)          [(None, 3)]               0         \n",
      "_________________________________________________________________\n",
      "hidden (Dense)               (None, 3)                 12        \n",
      "_________________________________________________________________\n",
      "output (Dense)               (None, 1)                 4         \n",
      "=================================================================\n",
      "Total params: 16\n",
      "Trainable params: 16\n",
      "Non-trainable params: 0\n",
      "_________________________________________________________________\n"
     ]
    }
   ],
   "source": [
    "### 입력 3개, 은닉 3개, 최종 1개\n",
    "\n",
    "# 1. 입력층 구성\n",
    "inputs = Input(shape=(3,), name='inputs')\n",
    "\n",
    "# 2. 은닉층 구성\n",
    "hidden_layer = Dense(units=3, activation='sigmoid', name='hidden')\n",
    "hidden = hidden_layer(inputs)\n",
    "\n",
    "# 3. 출력층 구성\n",
    "output_layer = Dense(units=1, name='output')\n",
    "output = output_layer(hidden)\n",
    "\n",
    "# 4. 모델 구성\n",
    "model = Model(inputs, output, name='model')\n",
    "model.summary()"
   ]
  },
  {
   "cell_type": "code",
   "execution_count": 15,
   "metadata": {},
   "outputs": [
    {
     "name": "stdout",
     "output_type": "stream",
     "text": [
      "Model: \"model\"\n",
      "_________________________________________________________________\n",
      "Layer (type)                 Output Shape              Param #   \n",
      "=================================================================\n",
      "inputs (InputLayer)          [(None, 1)]               0         \n",
      "_________________________________________________________________\n",
      "output (Dense)               (None, 1)                 2         \n",
      "=================================================================\n",
      "Total params: 2\n",
      "Trainable params: 2\n",
      "Non-trainable params: 0\n",
      "_________________________________________________________________\n"
     ]
    }
   ],
   "source": [
    "inputs = Input(shape=(1,), name='inputs')\n",
    "\n",
    "dense_layer = Dense(units=1, name='output')\n",
    "\n",
    "output = dense_layer(inputs)\n",
    "\n",
    "model = Model(inputs, output, name='model')\n",
    "\n",
    "model.summary()"
   ]
  },
  {
   "cell_type": "code",
   "execution_count": 19,
   "metadata": {},
   "outputs": [
    {
     "data": {
      "text/plain": [
       "[array([[-0.11697149]], dtype=float32), array([0.], dtype=float32)]"
      ]
     },
     "execution_count": 19,
     "metadata": {},
     "output_type": "execute_result"
    }
   ],
   "source": [
    "dense_layer.get_weights() # w1, w0 = 임의로 지정한 값"
   ]
  },
  {
   "cell_type": "code",
   "execution_count": 22,
   "metadata": {},
   "outputs": [
    {
     "data": {
      "text/plain": [
       "array([[-0.11697149]], dtype=float32)"
      ]
     },
     "execution_count": 22,
     "metadata": {},
     "output_type": "execute_result"
    }
   ],
   "source": [
    "x = np.array([[1.]],np.float32)\n",
    "model.predict(x)"
   ]
  },
  {
   "cell_type": "code",
   "execution_count": 23,
   "metadata": {},
   "outputs": [
    {
     "data": {
      "text/plain": [
       "array([[-0.23394299]], dtype=float32)"
      ]
     },
     "execution_count": 23,
     "metadata": {},
     "output_type": "execute_result"
    }
   ],
   "source": [
    "x = np.array([[2.]],np.float32)\n",
    "model.predict(x)"
   ]
  },
  {
   "cell_type": "code",
   "execution_count": 30,
   "metadata": {},
   "outputs": [
    {
     "name": "stdout",
     "output_type": "stream",
     "text": [
      "(2, 1)\n"
     ]
    },
    {
     "data": {
      "text/plain": [
       "array([[-0.11697149],\n",
       "       [-0.23394299]], dtype=float32)"
      ]
     },
     "execution_count": 30,
     "metadata": {},
     "output_type": "execute_result"
    }
   ],
   "source": [
    "x = np.array([[1.],[2.]],np.float32) # 첫번째 축은 처리할 데이터 배치(Batch)의 수, 두번째 축은 데이터 내 입력 변수의 갯수\n",
    "print(x.shape)\n",
    "model.predict(x)"
   ]
  },
  {
   "cell_type": "code",
   "execution_count": 40,
   "metadata": {},
   "outputs": [
    {
     "data": {
      "text/html": [
       "<div>\n",
       "<style scoped>\n",
       "    .dataframe tbody tr th:only-of-type {\n",
       "        vertical-align: middle;\n",
       "    }\n",
       "\n",
       "    .dataframe tbody tr th {\n",
       "        vertical-align: top;\n",
       "    }\n",
       "\n",
       "    .dataframe thead th {\n",
       "        text-align: right;\n",
       "    }\n",
       "</style>\n",
       "<table border=\"1\" class=\"dataframe\">\n",
       "  <thead>\n",
       "    <tr style=\"text-align: right;\">\n",
       "      <th></th>\n",
       "      <th>nums_want_to_see</th>\n",
       "      <th>nums_audience</th>\n",
       "    </tr>\n",
       "  </thead>\n",
       "  <tbody>\n",
       "    <tr>\n",
       "      <th>마션</th>\n",
       "      <td>8759</td>\n",
       "      <td>487</td>\n",
       "    </tr>\n",
       "    <tr>\n",
       "      <th>킹스맨</th>\n",
       "      <td>10132</td>\n",
       "      <td>612</td>\n",
       "    </tr>\n",
       "    <tr>\n",
       "      <th>캡틴아메리카</th>\n",
       "      <td>12078</td>\n",
       "      <td>866</td>\n",
       "    </tr>\n",
       "    <tr>\n",
       "      <th>인터스텔라</th>\n",
       "      <td>16430</td>\n",
       "      <td>1030</td>\n",
       "    </tr>\n",
       "  </tbody>\n",
       "</table>\n",
       "</div>"
      ],
      "text/plain": [
       "        nums_want_to_see  nums_audience\n",
       "마션                  8759            487\n",
       "킹스맨                10132            612\n",
       "캡틴아메리카             12078            866\n",
       "인터스텔라              16430           1030"
      ]
     },
     "execution_count": 40,
     "metadata": {},
     "output_type": "execute_result"
    }
   ],
   "source": [
    "movie_df = pd.DataFrame([\n",
    "    [8759, 487],\n",
    "    [10132,612],\n",
    "    [12078,866],\n",
    "    [16430,1030]],\n",
    "    columns=[\"nums_want_to_see\",\"nums_audience\"])\n",
    "movie_df.index = [\"마션\",\"킹스맨\",\"캡틴아메리카\",\"인터스텔라\"]\n",
    "movie_df"
   ]
  },
  {
   "cell_type": "code",
   "execution_count": 41,
   "metadata": {},
   "outputs": [
    {
     "name": "stdout",
     "output_type": "stream",
     "text": [
      "Model: \"model\"\n",
      "_________________________________________________________________\n",
      "Layer (type)                 Output Shape              Param #   \n",
      "=================================================================\n",
      "inputs (InputLayer)          [(None, 1)]               0         \n",
      "_________________________________________________________________\n",
      "output (Dense)               (None, 1)                 2         \n",
      "=================================================================\n",
      "Total params: 2\n",
      "Trainable params: 2\n",
      "Non-trainable params: 0\n",
      "_________________________________________________________________\n"
     ]
    }
   ],
   "source": [
    "inputs = Input(shape=(1,), name='inputs')\n",
    "dense_layer = Dense(units=1, name='output')\n",
    "output = dense_layer(inputs)\n",
    "model = Model(inputs, output, name='model')\n",
    "model.summary()"
   ]
  },
  {
   "cell_type": "code",
   "execution_count": 42,
   "metadata": {},
   "outputs": [
    {
     "data": {
      "text/html": [
       "<div>\n",
       "<style scoped>\n",
       "    .dataframe tbody tr th:only-of-type {\n",
       "        vertical-align: middle;\n",
       "    }\n",
       "\n",
       "    .dataframe tbody tr th {\n",
       "        vertical-align: top;\n",
       "    }\n",
       "\n",
       "    .dataframe thead th {\n",
       "        text-align: right;\n",
       "    }\n",
       "</style>\n",
       "<table border=\"1\" class=\"dataframe\">\n",
       "  <thead>\n",
       "    <tr style=\"text-align: right;\">\n",
       "      <th></th>\n",
       "      <th>nums_want_to_see</th>\n",
       "      <th>nums_audience</th>\n",
       "      <th>prediction</th>\n",
       "    </tr>\n",
       "  </thead>\n",
       "  <tbody>\n",
       "    <tr>\n",
       "      <th>마션</th>\n",
       "      <td>8759</td>\n",
       "      <td>487</td>\n",
       "      <td>8885.228516</td>\n",
       "    </tr>\n",
       "    <tr>\n",
       "      <th>킹스맨</th>\n",
       "      <td>10132</td>\n",
       "      <td>612</td>\n",
       "      <td>10278.015625</td>\n",
       "    </tr>\n",
       "    <tr>\n",
       "      <th>캡틴아메리카</th>\n",
       "      <td>12078</td>\n",
       "      <td>866</td>\n",
       "      <td>12252.059570</td>\n",
       "    </tr>\n",
       "    <tr>\n",
       "      <th>인터스텔라</th>\n",
       "      <td>16430</td>\n",
       "      <td>1030</td>\n",
       "      <td>16666.777344</td>\n",
       "    </tr>\n",
       "  </tbody>\n",
       "</table>\n",
       "</div>"
      ],
      "text/plain": [
       "        nums_want_to_see  nums_audience    prediction\n",
       "마션                  8759            487   8885.228516\n",
       "킹스맨                10132            612  10278.015625\n",
       "캡틴아메리카             12078            866  12252.059570\n",
       "인터스텔라              16430           1030  16666.777344"
      ]
     },
     "execution_count": 42,
     "metadata": {},
     "output_type": "execute_result"
    }
   ],
   "source": [
    "y_pred = model.predict(movie_df['nums_want_to_see'])\n",
    "movie_df['prediction'] = y_pred\n",
    "movie_df"
   ]
  },
  {
   "cell_type": "code",
   "execution_count": 43,
   "metadata": {},
   "outputs": [
    {
     "data": {
      "text/plain": [
       "[array([[1.0144113]], dtype=float32), array([0.], dtype=float32)]"
      ]
     },
     "execution_count": 43,
     "metadata": {},
     "output_type": "execute_result"
    }
   ],
   "source": [
    "# 학습이 전혀 되지 않았을 때의 Weight\n",
    "model.get_weights()"
   ]
  },
  {
   "cell_type": "code",
   "execution_count": 45,
   "metadata": {},
   "outputs": [],
   "source": [
    "loss = MeanSquaredError()\n",
    "optimizer = SGD(2e-10)\n",
    "model.compile(loss=loss, optimizer=optimizer)"
   ]
  },
  {
   "cell_type": "code",
   "execution_count": 55,
   "metadata": {},
   "outputs": [],
   "source": [
    "history = model.fit(x=movie_df['nums_want_to_see'], \n",
    "                    y=movie_df['nums_audience'], \n",
    "                    epochs=1000, verbose=0)"
   ]
  },
  {
   "cell_type": "code",
   "execution_count": 56,
   "metadata": {},
   "outputs": [
    {
     "data": {
      "text/html": [
       "<div>\n",
       "<style scoped>\n",
       "    .dataframe tbody tr th:only-of-type {\n",
       "        vertical-align: middle;\n",
       "    }\n",
       "\n",
       "    .dataframe tbody tr th {\n",
       "        vertical-align: top;\n",
       "    }\n",
       "\n",
       "    .dataframe thead th {\n",
       "        text-align: right;\n",
       "    }\n",
       "</style>\n",
       "<table border=\"1\" class=\"dataframe\">\n",
       "  <thead>\n",
       "    <tr style=\"text-align: right;\">\n",
       "      <th></th>\n",
       "      <th>nums_want_to_see</th>\n",
       "      <th>nums_audience</th>\n",
       "      <th>prediction</th>\n",
       "    </tr>\n",
       "  </thead>\n",
       "  <tbody>\n",
       "    <tr>\n",
       "      <th>마션</th>\n",
       "      <td>8759</td>\n",
       "      <td>487</td>\n",
       "      <td>556.986267</td>\n",
       "    </tr>\n",
       "    <tr>\n",
       "      <th>킹스맨</th>\n",
       "      <td>10132</td>\n",
       "      <td>612</td>\n",
       "      <td>644.295593</td>\n",
       "    </tr>\n",
       "    <tr>\n",
       "      <th>캡틴아메리카</th>\n",
       "      <td>12078</td>\n",
       "      <td>866</td>\n",
       "      <td>768.042114</td>\n",
       "    </tr>\n",
       "    <tr>\n",
       "      <th>인터스텔라</th>\n",
       "      <td>16430</td>\n",
       "      <td>1030</td>\n",
       "      <td>1044.786499</td>\n",
       "    </tr>\n",
       "  </tbody>\n",
       "</table>\n",
       "</div>"
      ],
      "text/plain": [
       "        nums_want_to_see  nums_audience   prediction\n",
       "마션                  8759            487   556.986267\n",
       "킹스맨                10132            612   644.295593\n",
       "캡틴아메리카             12078            866   768.042114\n",
       "인터스텔라              16430           1030  1044.786499"
      ]
     },
     "execution_count": 56,
     "metadata": {},
     "output_type": "execute_result"
    }
   ],
   "source": [
    "y_pred = model.predict(movie_df['nums_want_to_see'])\n",
    "\n",
    "movie_df['prediction'] = y_pred\n",
    "movie_df"
   ]
  },
  {
   "cell_type": "code",
   "execution_count": 59,
   "metadata": {},
   "outputs": [
    {
     "data": {
      "text/plain": [
       "[array([[0.06359018]], dtype=float32), array([-7.801453e-05], dtype=float32)]"
      ]
     },
     "execution_count": 59,
     "metadata": {},
     "output_type": "execute_result"
    }
   ],
   "source": [
    "model.get_weights()"
   ]
  },
  {
   "cell_type": "code",
   "execution_count": 52,
   "metadata": {
    "scrolled": true
   },
   "outputs": [
    {
     "data": {
      "image/png": "[encoded data removed]",
      "text/plain": [
       "<Figure size 432x288 with 1 Axes>"
      ]
     },
     "metadata": {
      "needs_background": "light"
     },
     "output_type": "display_data"
    }
   ],
   "source": [
    "plt.plot(history.history['loss'])\n",
    "plt.show()"
   ]
  },
  {
   "cell_type": "code",
   "execution_count": 60,
   "metadata": {},
   "outputs": [
    {
     "data": {
      "image/png": "[encoded data removed]",
      "text/plain": [
       "<Figure size 432x288 with 1 Axes>"
      ]
     },
     "metadata": {
      "needs_background": "light"
     },
     "output_type": "display_data"
    }
   ],
   "source": [
    "pred_inputs = np.arange(7500,18000)\n",
    "pred_outputs = model.predict(pred_inputs[:,None])\n",
    "movie_df.plot(x='nums_want_to_see',y='nums_audience',\n",
    "              kind='scatter', title=\"Movie\")\n",
    "plt.plot(pred_inputs, pred_outputs, 'r--')\n",
    "plt.show()"
   ]
  }
 ],
 "metadata": {
  "kernelspec": {
   "display_name": "Python 3",
   "language": "python",
   "name": "python3"
  },
  "language_info": {
   "codemirror_mode": {
    "name": "ipython",
    "version": 3
   },
   "file_extension": ".py",
   "mimetype": "text/x-python",
   "name": "python",
   "nbconvert_exporter": "python",
   "pygments_lexer": "ipython3",
   "version": "3.6.10"
  }
 },
 "nbformat": 4,
 "nbformat_minor": 2
}
